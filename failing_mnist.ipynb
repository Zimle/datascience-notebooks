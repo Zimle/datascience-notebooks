{
 "cells": [
  {
   "cell_type": "markdown",
   "metadata": {},
   "source": [
    "# What's this notebook about\n",
    "\n",
    "I started tackling the mnist problem with the following ambitions: I was going to try the following sklearn classifiers on the mnist data set:\n",
    "\n",
    "- KNeighborsClassifier\n",
    "- SGDClassifier\n",
    "- SVC with different kernels\n",
    "- RandomForest\n",
    "- ExtraTreesClassifier\n",
    "- GradientBoost\n",
    "- VotingClassifier\n",
    "\n",
    "To reduce computing time or get better accuracy, I tried:\n",
    "\n",
    "- cropping the images\n",
    "- stratifying the images, meaning putting every pixel above a threshold 1 and all other zero\n",
    "- polluting the images with some random pixels\n",
    "- resize the images\n",
    "- augmente the training images with shifted and rotated versions\n",
    "\n",
    "I am a very beginner and working through the wonderfully written book \"Hands-On Machine Learning with Scikit-Learn and TensorFlow: Concepts, Tools, and Techniques for Building Intelligent Systems\" by Aurelien Geron. Somehow, I spent a lot effort working on mnist ending up not being better than vanilla sklearn classifiers such as RandomForestClassifier or KNearestNeighbor. In this notebook, I will sketch my older notebooks commenting what I think went wrong. In retrospective, this notebook became a little lengthy, so sorry if you get bored. Comments on my initial notebook are set in *italics*. Feel free to tell me more on the mistakes I made, best practice I violate or maybe nonsense you made in yourself in your first projects.\n",
    "\n",
    "One of the first problems I encountered was the following:"
   ]
  },
  {
   "cell_type": "markdown",
   "metadata": {},
   "source": [
    "## Failure: Don't use an old notebook"
   ]
  },
  {
   "cell_type": "markdown",
   "metadata": {},
   "source": [
    "**Update**: *After uploading to Kaggle, I see that I have to run through all cells again, seeing that Kaggle works much faster than my notebook. If I had known this before... Note that in the comments or markup cells, the previous runtime of my notebook is often given and not the output of the actual cell you see*\n",
    "\n",
    "**Update 2**: I found the reason why the SGDClassifier and the Nystroem-LinearSVC worked so poor on the augmented dataset. The transformation of the pictures with pixel range [0,255] gave pictures with pixel in range [0,1]. I corrected this mistake by dividing all train pixels by 255. So do not be surprised.\n",
    "\n",
    "*Nothing is more annoying than having to wait for your notebook output or running into memory problems after a long notebook session. With mnist, I realized that my notebook (the system settings says Intel® Core™ i3-3217U CPU @ 1.80GHz × 4) was way too slow to use a standard gridsearch on KNearestNeighbor or SVCs. In particular, you never get to know how long it will take.\n",
    "Another issue was that later when augmenting the data set I sometimes ran into memory failures. At that point, even relatively simpe algorithms did not work any more, and I could not help but restart the kernel. Thats in particular annoying when running long notebooks. Either you wait for 30 minutes or so for the kernel to be at the point where it breaked, or you have to search the cells to run which were needed at the point your are.*\n",
    "\n",
    "*Therefore, my approach was how to go ahead with manipulating the pictures to compute faster or get better accuracy. Because of the time and memory issue, I just collected every import in the first cell, function in the second and class in the third cell to avoid searching the module I imported a function from. As you can see, I experimented a lot, but feel free to skip the functions or class. They will appear again when they are needed*"
   ]
  },
  {
   "cell_type": "code",
   "execution_count": 1,
   "metadata": {},
   "outputs": [],
   "source": [
    "import numpy as np\n",
    "import pandas as pd\n",
    "import os\n",
    "import sys\n",
    "import time\n",
    "import random\n",
    "%matplotlib inline\n",
    "import matplotlib as mpl\n",
    "import matplotlib.pyplot as plt\n",
    "\n",
    "# import sklearn functions\n",
    "from sklearn.model_selection import train_test_split, GridSearchCV, cross_val_score, ParameterGrid\n",
    "from sklearn.base import BaseEstimator, TransformerMixin\n",
    "from sklearn.utils import shuffle\n",
    "from sklearn.metrics import precision_score, recall_score, accuracy_score\n",
    "from sklearn.preprocessing import StandardScaler, MinMaxScaler, OneHotEncoder,LabelEncoder, LabelBinarizer\n",
    "from sklearn.pipeline import Pipeline, make_pipeline\n",
    "from sklearn.kernel_approximation import Nystroem\n",
    "from sklearn.linear_model import SGDClassifier, LogisticRegression\n",
    "from sklearn.neighbors import KNeighborsClassifier\n",
    "from sklearn.ensemble import RandomForestClassifier, VotingClassifier, BaggingClassifier\n",
    "from sklearn.ensemble import ExtraTreesClassifier, GradientBoostingClassifier\n",
    "from sklearn.svm import SVC, LinearSVC\n",
    "\n",
    "# other stuff needed\n",
    "from skimage.transform import resize\n",
    "from scipy.stats import uniform, expon, randint\n",
    "from scipy.ndimage.interpolation import shift, rotate"
   ]
  },
  {
   "cell_type": "code",
   "execution_count": 2,
   "metadata": {},
   "outputs": [],
   "source": [
    "# the next two functions are taken from Aurelien Gerons book \"Hands-On Machine Learning \n",
    "# with Scikit-Learn and TensorFlow: Concepts, Tools, and Techniques for Building Intelligent Systems\",\n",
    "# from the notebook https://github.com/ageron/handson-ml2/blob/master/03_classification.ipynb\n",
    "def plot_digit(data, cmap='gray', size=28):\n",
    "    image = data.reshape(size, size)\n",
    "    plt.imshow(image, cmap = cmap,interpolation=\"nearest\")\n",
    "    #plt.axis(\"off\")\n",
    "\n",
    "def plot_digits(instances, images_per_row=10, size=28,**options):\n",
    "    images_per_row = min(len(instances), images_per_row)\n",
    "    images = [instance.reshape(size,size) for instance in instances]\n",
    "    n_rows = (len(instances) - 1) // images_per_row + 1\n",
    "    row_images = []\n",
    "    n_empty = n_rows * images_per_row - len(instances)\n",
    "    images.append(np.zeros((size, size * n_empty)))\n",
    "    for row in range(n_rows):\n",
    "        rimages = images[row * images_per_row : (row + 1) * images_per_row]\n",
    "        row_images.append(np.concatenate(rimages, axis=1))\n",
    "    image = np.concatenate(row_images, axis=0)\n",
    "    plt.imshow(image, cmap = 'gray', **options) # cmap = mpl.cm.binary\n",
    "    plt.axis(\"off\")\n",
    "\n",
    "def fit_time_est(estimator, X_train, y_train, prnt=True):\n",
    "    start = time.time()\n",
    "    estimator.fit(X_train, y_train)\n",
    "    end = time.time()\n",
    "    if prnt:\n",
    "        print(\"Time needed to fit the estimator:\", end - start)\n",
    "    return end - start\n",
    "\n",
    "def fit_score_time(estimator, X_train, y_train, X_val, y_val, prnt=True, oob=False):\n",
    "    time_fit = fit_time_est(estimator, X_train, y_train, prnt=False)\n",
    "    if oob:\n",
    "        if prnt:\n",
    "            print(\"Time needed for fitting:\", time_fit)\n",
    "            print(\"Estimate of generalization error from oob (out of bag samples):\", estimator.oob_score_)\n",
    "        #return est, time_fit, est.oob_score_\n",
    "    else:    \n",
    "        start = time.time()\n",
    "        y_pred = estimator.predict(X_val)\n",
    "        acc_score = accuracy_score(y_pred,y_val)\n",
    "        end = time.time()\n",
    "        if prnt:\n",
    "            print(\"Time needed for fitting:\", time_fit)\n",
    "            print(\"Valuation score:\", acc_score, \" with\", end - start, \"seconds needed to evaluate.\")\n",
    "    \n",
    "def crop_inst(X_inst, tr_im_size=[28,28], crop_left=3, crop_right=3, crop_top=3, crop_bottom=3):\n",
    "    \"\"\"crop_data a data instance into its image_size, crops the given pixels from the border\n",
    "    and transforms the new image back into a row array\"\"\"\n",
    "    X_im = X_inst.reshape(tr_im_size)\n",
    "    X_im = X_im[crop_top:-crop_bottom, crop_left:-crop_right] # do the cropping\n",
    "    return X_im.reshape((tr_im_size[0]-crop_top-crop_bottom)*(tr_im_size[1]-crop_left-crop_right))\n",
    "    \n",
    "\n",
    "def crop_data(X_train, tr_im_size=[28,28], crop_left=3, crop_right=3, crop_top=3, crop_bottom=3):\n",
    "    \"\"\"crop_data turns every data instance into its image_size, crops the given pixels from the border\n",
    "    and transforms the new image back into a row array, returning thus a new data set\"\"\"\n",
    "    return np.apply_along_axis(crop_inst,1,X_train,tr_im_size=tr_im_size,crop_left=crop_left,\n",
    "                               crop_right=crop_right, crop_top=crop_top, crop_bottom=crop_bottom)\n",
    "\n",
    "def instance_resizer(instance, orig_im_size=(28,28), new_im_size=(14,14), mode='reflect', anti_aliasing=True):\n",
    "    \"\"\"takes a vector, interprets it as a picture, resizes it and returns the new image as a vector\"\"\"\n",
    "    image_orig = instance.reshape(orig_im_size)\n",
    "    image_new = resize(image_orig, new_im_size, mode=mode)\n",
    "    inst_transformed = image_new.reshape(new_im_size[0]*new_im_size[1])\n",
    "    return inst_transformed\n",
    "\n",
    "def resize_train(X_train, orig_im_size=(28,28), new_im_size=(14,14), mode='reflect',anti_aliasing=True):\n",
    "    \"\"\"applies instance_resizer to every instance\"\"\"\n",
    "    return np.apply_along_axis(instance_resizer,1,X_train,orig_im_size=orig_im_size,new_im_size=new_im_size,\n",
    "                               mode=mode, anti_aliasing=anti_aliasing)\n",
    "\n",
    "def stratify_data(X_train, threshold=230):\n",
    "    return np.where(X_train>threshold/255, 1, 0).astype(np.bool) # the /255 comes from a former version where the pixels where not normalized\n",
    "\n",
    "def pollute_instance(instance, im_size=(28,28), n_poll_pic=1, random_state = None):\n",
    "    if not random_state is None:\n",
    "        np.random.seed(random_state)\n",
    "    inst = instance.copy() # otherwise, we change the original data\n",
    "    image = inst.reshape(im_size)\n",
    "    # set rectangle with pollution\n",
    "    for _ in range(n_poll_pic):\n",
    "        a, b = np.random.randint(0,im_size[0]), 1+int(4*np.random.uniform())\n",
    "        c, d = np.random.randint(0,im_size[1]), 1+int(4*np.random.uniform())\n",
    "        # start polluting\n",
    "        for i in range(a,a+b):\n",
    "            for j in range(c,c+d):\n",
    "                try:\n",
    "                    image[i,j] = np.random.randint(50,200)/255 # /255 is added because pixels are assumed to be in [0,1]\n",
    "                except IndexError:\n",
    "                    pass\n",
    "    inst_transformed = image.reshape(im_size[0]*im_size[1])\n",
    "\n",
    "    return inst_transformed\n",
    "    \n",
    "\n",
    "def pollute_training(X_train, im_size=(28,28), n_poll_pic=1, random_state = None):\n",
    "    # usually, we would have used the following code, but it does not work with random_state set because in each\n",
    "    # instance the same pixels are polluted\n",
    "    if random_state is None:\n",
    "        return np.apply_along_axis(pollute_instance,1,X_train,im_size=im_size,\n",
    "                                   n_poll_pic=n_poll_pic, random_state=random_state)\n",
    "    else:\n",
    "        X_pol = X_train.copy()\n",
    "        for i in range(X_train.shape[0]):\n",
    "            X_pol[i] = pollute_instance(X_train[i],im_size=im_size, n_poll_pic=n_poll_pic,\n",
    "                                        random_state=random_state+i)\n",
    "        return X_pol\n",
    "\n",
    "# shift_instance and rand_shift_training are adapted versions from Aurelien Gerons book chapter 3 additional material\n",
    "# see his notebooks\n",
    "# to avoid combinatorial explosion, we use random shifting and rotating\n",
    "\n",
    "def shift_instance(instance, dx, dy, new=0, im_size=(28,28)):\n",
    "    return shift(instance.reshape(im_size), [dy, dx], cval=new).reshape(im_size[0]*im_size[1])\n",
    "\n",
    "def rand_shift_training(X_train, y_train, dx_max=2, dy_max=2, n_shifts = 4, new=0,\n",
    "                        im_size=(28,28), random_state=None, only_axes=True, do_shuffle=True):\n",
    "    \n",
    "    if not random_state is None:\n",
    "        np.random.seed(random_state)\n",
    "    \n",
    "    # collect all possibilities to move an image with given dx_max, dy_max\n",
    "    moving_vectors = []\n",
    "    if only_axes:\n",
    "        for i in range(1,dx_max+1): # if i=0 or j=0, we will get double entries. we will remove them below\n",
    "            moving_vectors.append((i,0))\n",
    "            moving_vectors.append((-i,0))\n",
    "        for i in range(1,dy_max+1):\n",
    "            moving_vectors.append((0,i))\n",
    "            moving_vectors.append((0,-i))\n",
    "    else:\n",
    "        for i in range(0,dx_max+1):\n",
    "            for j in range(0,dy_max+1): # if i=0 or j=0, we will get double entries. we will remove them below\n",
    "                moving_vectors.append((i,j))\n",
    "                moving_vectors.append((-i,j))\n",
    "                moving_vectors.append((i,-j))\n",
    "                moving_vectors.append((-i,-j))\n",
    "    \n",
    "    moving_vectors = list(set(moving_vectors)) # removes double entries from moving_vectors\n",
    "\n",
    "    # we do not want to double images, so remove (0,0) from moving_vectors\n",
    "    try:\n",
    "        moving_vectors.remove((0,0))\n",
    "    except ValueError:\n",
    "        if not only_axes: # because there should be no (0,0) inside if only_axes is True\n",
    "            print(\"No (0,0) could be removed from moving_vectors. Please check the code.\")\n",
    "    \n",
    "    \n",
    "    X_train_expanded = []\n",
    "    y_train_expanded = []\n",
    "    \n",
    "    # move image by moving_vectors and add to X_train_expanded\n",
    "    for i in range(X_train.shape[0]):\n",
    "        try:\n",
    "            for dx, dy in random.sample(moving_vectors, n_shifts):\n",
    "                shifted_image = shift_instance(X_train[i], dx=dx, dy=dy, new=0, im_size=im_size)\n",
    "                X_train_expanded.append(shifted_image)\n",
    "                y_train_expanded.append(y_train[i])\n",
    "        except ValueError:\n",
    "            print(\"Using maximal possible shifts. This might be smaller thatn n_shifts.\")\n",
    "            for dx, dy in moving_vectors:\n",
    "                shifted_image = shift_instance(X_train[i], dx=dx, dy=dy, new=0, im_size=im_size)\n",
    "                X_train_expanded.append(shifted_image)\n",
    "                y_train_expanded.append(y_train[i])\n",
    "\n",
    "    X_train_expanded = np.array(X_train_expanded, dtype=np.uint8)\n",
    "    y_train_expanded = np.array(y_train_expanded, dtype=np.uint8)\n",
    "    \n",
    "    # shuffle the new shifted images to avoid classifiers see the same number for too many times\n",
    "    if do_shuffle:\n",
    "        X_train_expanded, y_train_expanded = shuffle(X_train_expanded, y_train_expanded, random_state=random_state)\n",
    "    return X_train_expanded, y_train_expanded\n",
    "\n",
    "def rand_rotate_instance(instance, angle=10, new=0, im_size=(28,28)):\n",
    "    return rotate(instance.reshape(im_size), angle=angle, cval=new, reshape=False).reshape(im_size[0]*im_size[1])\n",
    "\n",
    "def rand_rotate_training(X_train, y_train, angle_range=(5,10), im_size=(28,28),\n",
    "                        sign=True, do_shuffle=True, random_state=None):\n",
    "    \n",
    "    if not random_state is None:\n",
    "        np.random.seed(random_state)\n",
    "    \n",
    "    X_rot = X_train.copy()\n",
    "    for i in range(X_train.shape[0]): # we need this loop to not always get the same rotation\n",
    "        angle = np.random.randint(angle_range[0],angle_range[1])\n",
    "        X_rot[i] = rand_rotate_instance(X_train[i],angle=angle,im_size=im_size)\n",
    "    \n",
    "    if sign:\n",
    "        X_rot_sign = X_train.copy()\n",
    "        for i in range(X_train.shape[0]): # we need this loop to not always get the same rotation\n",
    "            angle = np.random.randint(angle_range[0],angle_range[1])\n",
    "            X_rot_sign[i] = rand_rotate_instance(X_train[i],angle=-angle,im_size=im_size)\n",
    "        \n",
    "        # shuffle the new shifted images to avoid classifiers see the same number for too many times\n",
    "        if do_shuffle:\n",
    "            X_train_expanded, y_train_expanded = shuffle(np.concatenate((X_rot, X_rot_sign)),\n",
    "                                                         np.concatenate((y_train, y_train)),\n",
    "                                                         random_state=random_state)\n",
    "        return X_train_expanded, y_train_expanded    \n",
    "    else:\n",
    "        return X_rot, y_train\n",
    "    \n",
    "def augment_training(X_train, y_train,dx_max=2,dy_max=2,n_shifts = 4,angle_range=(5,10),im_size=(28,28),\n",
    "                     only_axes=False, do_shuffle=True, sign=True, random_state=None):\n",
    "    X_shift, y_shift = rand_shift_training(X_train, y_train, dx_max=dx_max, dy_max=dy_max, n_shifts = n_shifts, \n",
    "                        im_size=im_size, random_state=random_state, only_axes=only_axes, do_shuffle=do_shuffle)\n",
    "    X_rot, y_rot = rand_rotate_training(X_train, y_train, angle_range=angle_range, im_size=im_size,\n",
    "                        sign=sign, do_shuffle=do_shuffle, random_state=random_state)\n",
    "    X_train = np.concatenate((X_train,X_shift, X_rot))\n",
    "    y_train = np.concatenate((y_train, y_shift, y_rot))\n",
    "    return X_train, y_train"
   ]
  },
  {
   "cell_type": "code",
   "execution_count": 3,
   "metadata": {},
   "outputs": [],
   "source": [
    "class ImageTransformer(BaseEstimator, TransformerMixin): # the arguments say that the new class inherits from the others, namely get/setparams_and fit_transform\n",
    "    def __init__(self, resize=True, pollute=True, crop=True, stratify=True, n_poll_pic=1, random_state=None): # pass only whether to apply some transformations and random state\n",
    "        self.resize = resize\n",
    "        self.crop = crop\n",
    "        self.stratify = stratify\n",
    "        self.pollute = pollute\n",
    "        self.n_poll_pic = n_poll_pic\n",
    "        self.random_state = random_state\n",
    "    def fit(self, X, y=None):\n",
    "        return self  # nothing else to do\n",
    "    def transform(self, X): # the X should be an array accessible by dataframe.values. Important as pipeline only handles these guys\n",
    "        if self.pollute:\n",
    "            X = pollute_training(X,n_poll_pic = self.n_poll_pic, random_state=self.random_state)\n",
    "        if self.resize:\n",
    "            if X.shape[1] != 14*14: # only resize if pictures are not already resized to (14,14)\n",
    "                X = resize_train(X)\n",
    "        if self.crop:\n",
    "            X = crop_data(X, tr_im_size=[14,14], crop_left=1, crop_right=1, crop_top=1, crop_bottom=1)\n",
    "        if self.stratify:\n",
    "            stratify_data(X, threshold=0)\n",
    "        return X"
   ]
  },
  {
   "cell_type": "markdown",
   "metadata": {},
   "source": [
    "*Having most of the important things I had done so far at the very beginning was practical as you always know where to scroll or which cells to run if restarting the notebook. But most notebooks I have seen do this on the fly, so I guess I am violating best practices here.*\n",
    "\n",
    "*The following was the outset of a tutorial I had in mind (haha!). So maybe with regard to the many classifiers I wanted to use, I should record:*"
   ]
  },
  {
   "cell_type": "markdown",
   "metadata": {},
   "source": [
    "## Failure : Don't make big plans as a beginner"
   ]
  },
  {
   "cell_type": "code",
   "execution_count": 4,
   "metadata": {},
   "outputs": [],
   "source": [
    "# load the data\n",
    "df_train = pd.read_csv(\"../input/digit-recognizer/train.csv\", engine='c')\n",
    "df_test = pd.read_csv(\"../input/digit-recognizer/test.csv\", engine='c')"
   ]
  },
  {
   "cell_type": "code",
   "execution_count": 5,
   "metadata": {},
   "outputs": [
    {
     "data": {
      "text/html": [
       "<div>\n",
       "<style scoped>\n",
       "    .dataframe tbody tr th:only-of-type {\n",
       "        vertical-align: middle;\n",
       "    }\n",
       "\n",
       "    .dataframe tbody tr th {\n",
       "        vertical-align: top;\n",
       "    }\n",
       "\n",
       "    .dataframe thead th {\n",
       "        text-align: right;\n",
       "    }\n",
       "</style>\n",
       "<table border=\"1\" class=\"dataframe\">\n",
       "  <thead>\n",
       "    <tr style=\"text-align: right;\">\n",
       "      <th></th>\n",
       "      <th>label</th>\n",
       "      <th>pixel0</th>\n",
       "      <th>pixel1</th>\n",
       "      <th>pixel2</th>\n",
       "      <th>pixel3</th>\n",
       "      <th>pixel4</th>\n",
       "      <th>pixel5</th>\n",
       "      <th>pixel6</th>\n",
       "      <th>pixel7</th>\n",
       "      <th>pixel8</th>\n",
       "      <th>...</th>\n",
       "      <th>pixel774</th>\n",
       "      <th>pixel775</th>\n",
       "      <th>pixel776</th>\n",
       "      <th>pixel777</th>\n",
       "      <th>pixel778</th>\n",
       "      <th>pixel779</th>\n",
       "      <th>pixel780</th>\n",
       "      <th>pixel781</th>\n",
       "      <th>pixel782</th>\n",
       "      <th>pixel783</th>\n",
       "    </tr>\n",
       "  </thead>\n",
       "  <tbody>\n",
       "    <tr>\n",
       "      <th>0</th>\n",
       "      <td>1</td>\n",
       "      <td>0</td>\n",
       "      <td>0</td>\n",
       "      <td>0</td>\n",
       "      <td>0</td>\n",
       "      <td>0</td>\n",
       "      <td>0</td>\n",
       "      <td>0</td>\n",
       "      <td>0</td>\n",
       "      <td>0</td>\n",
       "      <td>...</td>\n",
       "      <td>0</td>\n",
       "      <td>0</td>\n",
       "      <td>0</td>\n",
       "      <td>0</td>\n",
       "      <td>0</td>\n",
       "      <td>0</td>\n",
       "      <td>0</td>\n",
       "      <td>0</td>\n",
       "      <td>0</td>\n",
       "      <td>0</td>\n",
       "    </tr>\n",
       "    <tr>\n",
       "      <th>1</th>\n",
       "      <td>0</td>\n",
       "      <td>0</td>\n",
       "      <td>0</td>\n",
       "      <td>0</td>\n",
       "      <td>0</td>\n",
       "      <td>0</td>\n",
       "      <td>0</td>\n",
       "      <td>0</td>\n",
       "      <td>0</td>\n",
       "      <td>0</td>\n",
       "      <td>...</td>\n",
       "      <td>0</td>\n",
       "      <td>0</td>\n",
       "      <td>0</td>\n",
       "      <td>0</td>\n",
       "      <td>0</td>\n",
       "      <td>0</td>\n",
       "      <td>0</td>\n",
       "      <td>0</td>\n",
       "      <td>0</td>\n",
       "      <td>0</td>\n",
       "    </tr>\n",
       "    <tr>\n",
       "      <th>2</th>\n",
       "      <td>1</td>\n",
       "      <td>0</td>\n",
       "      <td>0</td>\n",
       "      <td>0</td>\n",
       "      <td>0</td>\n",
       "      <td>0</td>\n",
       "      <td>0</td>\n",
       "      <td>0</td>\n",
       "      <td>0</td>\n",
       "      <td>0</td>\n",
       "      <td>...</td>\n",
       "      <td>0</td>\n",
       "      <td>0</td>\n",
       "      <td>0</td>\n",
       "      <td>0</td>\n",
       "      <td>0</td>\n",
       "      <td>0</td>\n",
       "      <td>0</td>\n",
       "      <td>0</td>\n",
       "      <td>0</td>\n",
       "      <td>0</td>\n",
       "    </tr>\n",
       "    <tr>\n",
       "      <th>3</th>\n",
       "      <td>4</td>\n",
       "      <td>0</td>\n",
       "      <td>0</td>\n",
       "      <td>0</td>\n",
       "      <td>0</td>\n",
       "      <td>0</td>\n",
       "      <td>0</td>\n",
       "      <td>0</td>\n",
       "      <td>0</td>\n",
       "      <td>0</td>\n",
       "      <td>...</td>\n",
       "      <td>0</td>\n",
       "      <td>0</td>\n",
       "      <td>0</td>\n",
       "      <td>0</td>\n",
       "      <td>0</td>\n",
       "      <td>0</td>\n",
       "      <td>0</td>\n",
       "      <td>0</td>\n",
       "      <td>0</td>\n",
       "      <td>0</td>\n",
       "    </tr>\n",
       "    <tr>\n",
       "      <th>4</th>\n",
       "      <td>0</td>\n",
       "      <td>0</td>\n",
       "      <td>0</td>\n",
       "      <td>0</td>\n",
       "      <td>0</td>\n",
       "      <td>0</td>\n",
       "      <td>0</td>\n",
       "      <td>0</td>\n",
       "      <td>0</td>\n",
       "      <td>0</td>\n",
       "      <td>...</td>\n",
       "      <td>0</td>\n",
       "      <td>0</td>\n",
       "      <td>0</td>\n",
       "      <td>0</td>\n",
       "      <td>0</td>\n",
       "      <td>0</td>\n",
       "      <td>0</td>\n",
       "      <td>0</td>\n",
       "      <td>0</td>\n",
       "      <td>0</td>\n",
       "    </tr>\n",
       "    <tr>\n",
       "      <th>...</th>\n",
       "      <td>...</td>\n",
       "      <td>...</td>\n",
       "      <td>...</td>\n",
       "      <td>...</td>\n",
       "      <td>...</td>\n",
       "      <td>...</td>\n",
       "      <td>...</td>\n",
       "      <td>...</td>\n",
       "      <td>...</td>\n",
       "      <td>...</td>\n",
       "      <td>...</td>\n",
       "      <td>...</td>\n",
       "      <td>...</td>\n",
       "      <td>...</td>\n",
       "      <td>...</td>\n",
       "      <td>...</td>\n",
       "      <td>...</td>\n",
       "      <td>...</td>\n",
       "      <td>...</td>\n",
       "      <td>...</td>\n",
       "      <td>...</td>\n",
       "    </tr>\n",
       "    <tr>\n",
       "      <th>41995</th>\n",
       "      <td>0</td>\n",
       "      <td>0</td>\n",
       "      <td>0</td>\n",
       "      <td>0</td>\n",
       "      <td>0</td>\n",
       "      <td>0</td>\n",
       "      <td>0</td>\n",
       "      <td>0</td>\n",
       "      <td>0</td>\n",
       "      <td>0</td>\n",
       "      <td>...</td>\n",
       "      <td>0</td>\n",
       "      <td>0</td>\n",
       "      <td>0</td>\n",
       "      <td>0</td>\n",
       "      <td>0</td>\n",
       "      <td>0</td>\n",
       "      <td>0</td>\n",
       "      <td>0</td>\n",
       "      <td>0</td>\n",
       "      <td>0</td>\n",
       "    </tr>\n",
       "    <tr>\n",
       "      <th>41996</th>\n",
       "      <td>1</td>\n",
       "      <td>0</td>\n",
       "      <td>0</td>\n",
       "      <td>0</td>\n",
       "      <td>0</td>\n",
       "      <td>0</td>\n",
       "      <td>0</td>\n",
       "      <td>0</td>\n",
       "      <td>0</td>\n",
       "      <td>0</td>\n",
       "      <td>...</td>\n",
       "      <td>0</td>\n",
       "      <td>0</td>\n",
       "      <td>0</td>\n",
       "      <td>0</td>\n",
       "      <td>0</td>\n",
       "      <td>0</td>\n",
       "      <td>0</td>\n",
       "      <td>0</td>\n",
       "      <td>0</td>\n",
       "      <td>0</td>\n",
       "    </tr>\n",
       "    <tr>\n",
       "      <th>41997</th>\n",
       "      <td>7</td>\n",
       "      <td>0</td>\n",
       "      <td>0</td>\n",
       "      <td>0</td>\n",
       "      <td>0</td>\n",
       "      <td>0</td>\n",
       "      <td>0</td>\n",
       "      <td>0</td>\n",
       "      <td>0</td>\n",
       "      <td>0</td>\n",
       "      <td>...</td>\n",
       "      <td>0</td>\n",
       "      <td>0</td>\n",
       "      <td>0</td>\n",
       "      <td>0</td>\n",
       "      <td>0</td>\n",
       "      <td>0</td>\n",
       "      <td>0</td>\n",
       "      <td>0</td>\n",
       "      <td>0</td>\n",
       "      <td>0</td>\n",
       "    </tr>\n",
       "    <tr>\n",
       "      <th>41998</th>\n",
       "      <td>6</td>\n",
       "      <td>0</td>\n",
       "      <td>0</td>\n",
       "      <td>0</td>\n",
       "      <td>0</td>\n",
       "      <td>0</td>\n",
       "      <td>0</td>\n",
       "      <td>0</td>\n",
       "      <td>0</td>\n",
       "      <td>0</td>\n",
       "      <td>...</td>\n",
       "      <td>0</td>\n",
       "      <td>0</td>\n",
       "      <td>0</td>\n",
       "      <td>0</td>\n",
       "      <td>0</td>\n",
       "      <td>0</td>\n",
       "      <td>0</td>\n",
       "      <td>0</td>\n",
       "      <td>0</td>\n",
       "      <td>0</td>\n",
       "    </tr>\n",
       "    <tr>\n",
       "      <th>41999</th>\n",
       "      <td>9</td>\n",
       "      <td>0</td>\n",
       "      <td>0</td>\n",
       "      <td>0</td>\n",
       "      <td>0</td>\n",
       "      <td>0</td>\n",
       "      <td>0</td>\n",
       "      <td>0</td>\n",
       "      <td>0</td>\n",
       "      <td>0</td>\n",
       "      <td>...</td>\n",
       "      <td>0</td>\n",
       "      <td>0</td>\n",
       "      <td>0</td>\n",
       "      <td>0</td>\n",
       "      <td>0</td>\n",
       "      <td>0</td>\n",
       "      <td>0</td>\n",
       "      <td>0</td>\n",
       "      <td>0</td>\n",
       "      <td>0</td>\n",
       "    </tr>\n",
       "  </tbody>\n",
       "</table>\n",
       "<p>42000 rows × 785 columns</p>\n",
       "</div>"
      ],
      "text/plain": [
       "       label  pixel0  pixel1  pixel2  pixel3  pixel4  pixel5  pixel6  pixel7  \\\n",
       "0          1       0       0       0       0       0       0       0       0   \n",
       "1          0       0       0       0       0       0       0       0       0   \n",
       "2          1       0       0       0       0       0       0       0       0   \n",
       "3          4       0       0       0       0       0       0       0       0   \n",
       "4          0       0       0       0       0       0       0       0       0   \n",
       "...      ...     ...     ...     ...     ...     ...     ...     ...     ...   \n",
       "41995      0       0       0       0       0       0       0       0       0   \n",
       "41996      1       0       0       0       0       0       0       0       0   \n",
       "41997      7       0       0       0       0       0       0       0       0   \n",
       "41998      6       0       0       0       0       0       0       0       0   \n",
       "41999      9       0       0       0       0       0       0       0       0   \n",
       "\n",
       "       pixel8  ...  pixel774  pixel775  pixel776  pixel777  pixel778  \\\n",
       "0           0  ...         0         0         0         0         0   \n",
       "1           0  ...         0         0         0         0         0   \n",
       "2           0  ...         0         0         0         0         0   \n",
       "3           0  ...         0         0         0         0         0   \n",
       "4           0  ...         0         0         0         0         0   \n",
       "...       ...  ...       ...       ...       ...       ...       ...   \n",
       "41995       0  ...         0         0         0         0         0   \n",
       "41996       0  ...         0         0         0         0         0   \n",
       "41997       0  ...         0         0         0         0         0   \n",
       "41998       0  ...         0         0         0         0         0   \n",
       "41999       0  ...         0         0         0         0         0   \n",
       "\n",
       "       pixel779  pixel780  pixel781  pixel782  pixel783  \n",
       "0             0         0         0         0         0  \n",
       "1             0         0         0         0         0  \n",
       "2             0         0         0         0         0  \n",
       "3             0         0         0         0         0  \n",
       "4             0         0         0         0         0  \n",
       "...         ...       ...       ...       ...       ...  \n",
       "41995         0         0         0         0         0  \n",
       "41996         0         0         0         0         0  \n",
       "41997         0         0         0         0         0  \n",
       "41998         0         0         0         0         0  \n",
       "41999         0         0         0         0         0  \n",
       "\n",
       "[42000 rows x 785 columns]"
      ]
     },
     "execution_count": 5,
     "metadata": {},
     "output_type": "execute_result"
    }
   ],
   "source": [
    "# inspect the data\n",
    "df_train"
   ]
  },
  {
   "cell_type": "code",
   "execution_count": 6,
   "metadata": {},
   "outputs": [
    {
     "data": {
      "text/plain": [
       "1    4684\n",
       "7    4401\n",
       "3    4351\n",
       "9    4188\n",
       "2    4177\n",
       "6    4137\n",
       "0    4132\n",
       "4    4072\n",
       "8    4063\n",
       "5    3795\n",
       "Name: label, dtype: int64"
      ]
     },
     "execution_count": 6,
     "metadata": {},
     "output_type": "execute_result"
    }
   ],
   "source": [
    "# check for completeness\n",
    "# only labels in the range of 0..9 ???\n",
    "df_train['label'].value_counts()"
   ]
  },
  {
   "cell_type": "code",
   "execution_count": 7,
   "metadata": {},
   "outputs": [
    {
     "data": {
      "text/plain": [
       "<matplotlib.axes._subplots.AxesSubplot at 0x7fa58d4a21d0>"
      ]
     },
     "execution_count": 7,
     "metadata": {},
     "output_type": "execute_result"
    },
    {
     "data": {
      "image/png": "[encoded data removed]",
      "text/plain": [
       "<Figure size 432x288 with 1 Axes>"
      ]
     },
     "metadata": {
      "needs_background": "light"
     },
     "output_type": "display_data"
    }
   ],
   "source": [
    "# so the labels appear more or less in the same frequence. in particular, accuracy score is fine\n",
    "df_train['label'].hist()"
   ]
  },
  {
   "cell_type": "code",
   "execution_count": 8,
   "metadata": {},
   "outputs": [
    {
     "data": {
      "text/plain": [
       "count       785\n",
       "unique        1\n",
       "top       False\n",
       "freq        785\n",
       "dtype: object"
      ]
     },
     "execution_count": 8,
     "metadata": {},
     "output_type": "execute_result"
    }
   ],
   "source": [
    "# check for null values\n",
    "df_train.isnull().any().describe()"
   ]
  },
  {
   "cell_type": "code",
   "execution_count": 9,
   "metadata": {},
   "outputs": [],
   "source": [
    "# no null value. great. lets start by taking the numpy arrays and splitting the label from the instances\n",
    "y = df_train['label'].to_numpy(dtype = np.uint8)\n",
    "X = df_train.drop(labels = [\"label\"],axis = 1).to_numpy()/255"
   ]
  },
  {
   "cell_type": "code",
   "execution_count": 10,
   "metadata": {},
   "outputs": [
    {
     "name": "stdout",
     "output_type": "stream",
     "text": [
      "(42000,)\n",
      "(42000, 784)\n"
     ]
    }
   ],
   "source": [
    "# lets check sizes\n",
    "print(y.shape)\n",
    "print(X.shape)"
   ]
  },
  {
   "cell_type": "markdown",
   "metadata": {},
   "source": [
    "## Splitting the data\n",
    "We split our data up into the following parts:\n",
    "\n",
    "- 32000 instances of: X_red_train for training models\n",
    "- 5000 instances of : X_val for evaluating our estimators when we do not use cross-validation due to time consuming training\n",
    "- 5000 instances of : X_test to look for the generalization error we are going to make, as by looking for parameters, we might overfit the validation data and checking on test data might bring us back to earth\n",
    "\n",
    "The final estimator will be trained on the full data set and then applied to the test data of kaggle"
   ]
  },
  {
   "cell_type": "code",
   "execution_count": 11,
   "metadata": {},
   "outputs": [],
   "source": [
    "X_train, X_test, y_train, y_test = train_test_split(X,y, test_size=5000, random_state=43, stratify=y)\n",
    "X_train, X_val, y_train, y_val = train_test_split(X_train,y_train, test_size=5000, random_state=43, stratify=y_train)"
   ]
  },
  {
   "cell_type": "markdown",
   "metadata": {},
   "source": [
    "We are working on a classification problem. The numbers 0,...,9 can be interpreted by the algorithm as being near, meaning that e.g 0 and 1 are more related than 0 and 9. For those algorithms capable of interpreting, we use sklearns LabelBinarizer. The OneHotEncoder is meant for use on the features."
   ]
  },
  {
   "cell_type": "code",
   "execution_count": 12,
   "metadata": {},
   "outputs": [],
   "source": [
    "lab_bin = LabelBinarizer()\n",
    "y_train_label = lab_bin.fit_transform(y_train)\n",
    "y_val_label = lab_bin.transform(y_val) # dont fit again, so that the correspondance of digit and list keeps the same"
   ]
  },
  {
   "cell_type": "code",
   "execution_count": 13,
   "metadata": {},
   "outputs": [
    {
     "name": "stdout",
     "output_type": "stream",
     "text": [
      "[6 6 8 8 4 0 8 8 4 3]\n"
     ]
    },
    {
     "data": {
      "text/plain": [
       "array([[0, 0, 0, 0, 0, 0, 1, 0, 0, 0],\n",
       "       [0, 0, 0, 0, 0, 0, 1, 0, 0, 0],\n",
       "       [0, 0, 0, 0, 0, 0, 0, 0, 1, 0],\n",
       "       [0, 0, 0, 0, 0, 0, 0, 0, 1, 0],\n",
       "       [0, 0, 0, 0, 1, 0, 0, 0, 0, 0],\n",
       "       [1, 0, 0, 0, 0, 0, 0, 0, 0, 0],\n",
       "       [0, 0, 0, 0, 0, 0, 0, 0, 1, 0],\n",
       "       [0, 0, 0, 0, 0, 0, 0, 0, 1, 0],\n",
       "       [0, 0, 0, 0, 1, 0, 0, 0, 0, 0],\n",
       "       [0, 0, 0, 1, 0, 0, 0, 0, 0, 0]])"
      ]
     },
     "execution_count": 13,
     "metadata": {},
     "output_type": "execute_result"
    }
   ],
   "source": [
    "# lets have a look how it works:\n",
    "print(y_train[:10])\n",
    "y_train_label[:10]"
   ]
  },
  {
   "cell_type": "markdown",
   "metadata": {},
   "source": [
    "*This is the point where I always used \"run all cells above\" when I restarted a kernel, because it defined the training data. Until now, I don't feel of having made any mistakes, but you are welcome to point some out.*\n",
    "\n",
    "*The next part was about looking at the data, where I present the main ideas of manipulating the pictures:*"
   ]
  },
  {
   "cell_type": "markdown",
   "metadata": {},
   "source": [
    "## Inspecting the data"
   ]
  },
  {
   "cell_type": "code",
   "execution_count": 14,
   "metadata": {},
   "outputs": [
    {
     "data": {
      "image/png": "[encoded data removed]",
      "text/plain": [
       "<Figure size 648x648 with 1 Axes>"
      ]
     },
     "metadata": {
      "needs_background": "light"
     },
     "output_type": "display_data"
    }
   ],
   "source": [
    "# lets see pictures\n",
    "plt.figure(figsize=(9,9))\n",
    "example_images = X_train[:100]\n",
    "plot_digits(example_images, images_per_row=10)\n",
    "#save_fig(\"more_digits_plot\")\n",
    "plt.show()"
   ]
  },
  {
   "cell_type": "code",
   "execution_count": 15,
   "metadata": {},
   "outputs": [
    {
     "data": {
      "image/png": "[encoded data removed]",
      "text/plain": [
       "<Figure size 432x288 with 1 Axes>"
      ]
     },
     "metadata": {
      "needs_background": "light"
     },
     "output_type": "display_data"
    }
   ],
   "source": [
    "plot_digit(X_train[0])"
   ]
  },
  {
   "cell_type": "markdown",
   "metadata": {},
   "source": [
    "It seems that we might crop some pictures to reduce dimensions, so from the left and right we could remove 3 pixels and from the top and bottom 3 pixels (actually, we could remove even more from the top most often). Note how the data seems to be cropped by default like the first six. Some ideas\n",
    "\n",
    "- use the cropping as a feature, maybe centering the images horizontally and vertically. Note that centering makes us unable to use data augmentation by moving the image along axes, leaving only rotation\n",
    "- remove outlier pixels as in the 6 shown in the middle of the hundred digits by removing pixels where the sum of neighbor pixels is low\n",
    "- make the gray-scale binary by saying that everything above a threshold (say 230) is set to 255\n",
    "- the drawing tends to be thick enough so that we can scale the pictures to 14x14 pictures without loosing to much information. the interpolation used is a hyperparameter\n",
    "\n",
    "Furthermore, we will classically augment the training set by some shifts and rotations."
   ]
  },
  {
   "cell_type": "markdown",
   "metadata": {},
   "source": [
    "*I still think this sounds reasonable, but it turns out that the main good technique that worked was the resizing. The next section was considered to give a bar which is to raise: a simple Random Forest*"
   ]
  },
  {
   "cell_type": "markdown",
   "metadata": {},
   "source": [
    "## A first shot: RandomForest\n",
    "\n",
    "As a first attempt, we will just apply a vanilla RandomForest"
   ]
  },
  {
   "cell_type": "code",
   "execution_count": 16,
   "metadata": {},
   "outputs": [
    {
     "name": "stdout",
     "output_type": "stream",
     "text": [
      "Time needed for fitting: 10.532341480255127\n",
      "Estimate of generalization error from oob (out of bag samples): 0.95921875\n"
     ]
    }
   ],
   "source": [
    "# lets check the performance of a random forest as a bar\n",
    "# they are rather fast, so we can apply the whole training set\n",
    "rdf_clf = RandomForestClassifier(random_state=43, oob_score=True, n_jobs=-1) # n_jobs=-1 takes all processors\n",
    "\n",
    "fit_score_time(rdf_clf, X_train, y_train, X_val, y_val, prnt=True, oob=True) # took 23 seconds, score 0.958"
   ]
  },
  {
   "cell_type": "markdown",
   "metadata": {},
   "source": [
    "Given that we did not anything special, this is a quick and good solution. At least we now know that the difficulty is to get a very good score. But wait: Shouldn't we apply categorical labeling? Lets give it a try:"
   ]
  },
  {
   "cell_type": "code",
   "execution_count": 17,
   "metadata": {},
   "outputs": [
    {
     "name": "stdout",
     "output_type": "stream",
     "text": [
      "Time needed for fitting: 19.390265703201294\n",
      "Estimate of generalization error from oob (out of bag samples): 0.98665\n"
     ]
    }
   ],
   "source": [
    "fit_score_time(rdf_clf, X_train, y_train_label, X_val, y_val, prnt=True, oob=True) # took 45 seconds,score 0.986"
   ]
  },
  {
   "cell_type": "markdown",
   "metadata": {},
   "source": [
    "*Note that for a long time I thought that using onehotencoding to the labels would increase the score. Later on I found out that the score on the validation set is much lower, so I thought of overfitting. But training with y_train makes out-of-bag score (oob_score) more or less equal to the score on the validation set. I still cannot explain this issue, so I would be very happy if you could shed some light on this issue.*\n",
    "\n",
    "That's way better! But be warned that we did not restrict the depth of the trees and so on, and we will see that the oob score is much higher than on the validation set. And note that we only trained on 32000 instances. Another reason why RandomForests are often a great first shot is that they can tell you which feature they feel are important:"
   ]
  },
  {
   "cell_type": "code",
   "execution_count": 18,
   "metadata": {},
   "outputs": [
    {
     "data": {
      "image/png": "[encoded data removed]",
      "text/plain": [
       "<Figure size 432x288 with 1 Axes>"
      ]
     },
     "metadata": {
      "needs_background": "light"
     },
     "output_type": "display_data"
    }
   ],
   "source": [
    "# as we can see, a great part of the picture is unimportant as we already saw\n",
    "plot_digit(rdf_clf.feature_importances_, cmap=mpl.cm.hot)"
   ]
  },
  {
   "cell_type": "markdown",
   "metadata": {},
   "source": [
    "*The things done so far were more or less okay, I think. In the following section, you see how I chose the wrong track: I made lots of calculations which are of no value: I trained several models on a way too small dataset. Note that I first tried the whole training set or big parts of it, which ended in interrupting (and sometimes crashing) the kernel. So be warned that you only see the tip of the iceberg here:*\n",
    "\n",
    "## Looking how our proposed vanilla models work\n",
    "\n",
    "We take a look at the models proposed at the beginning training them on small datasets"
   ]
  },
  {
   "cell_type": "code",
   "execution_count": 19,
   "metadata": {},
   "outputs": [
    {
     "name": "stdout",
     "output_type": "stream",
     "text": [
      "KNeighborsClassifier\n",
      "Time needed for fitting: 0.0081787109375\n",
      "Valuation score: 0.6524  with 0.9913444519042969 seconds needed to evaluate.\n",
      "Time needed for fitting: 0.014332056045532227\n",
      "Valuation score: 0.7784  with 2.687303066253662 seconds needed to evaluate.\n",
      "Time needed for fitting: 0.046903371810913086\n",
      "Valuation score: 0.863  with 6.974479913711548 seconds needed to evaluate.\n",
      "**************************************************************\n",
      "Pipeline\n",
      "Time needed for fitting: 0.03537487983703613\n",
      "Valuation score: 0.613  with 0.03112316131591797 seconds needed to evaluate.\n",
      "Time needed for fitting: 0.09767556190490723\n",
      "Valuation score: 0.754  with 0.03268861770629883 seconds needed to evaluate.\n",
      "Time needed for fitting: 0.3385646343231201\n",
      "Valuation score: 0.8514  with 0.029443979263305664 seconds needed to evaluate.\n",
      "**************************************************************\n",
      "ExtraTreesClassifier\n",
      "Time needed for fitting: 0.23983383178710938\n",
      "Valuation score: 0.73  with 0.10669541358947754 seconds needed to evaluate.\n",
      "Time needed for fitting: 0.24209928512573242\n",
      "Valuation score: 0.835  with 0.1186671257019043 seconds needed to evaluate.\n",
      "Time needed for fitting: 0.4847440719604492\n",
      "Valuation score: 0.8954  with 0.13594961166381836 seconds needed to evaluate.\n",
      "**************************************************************\n",
      "Pipeline\n",
      "Time needed for fitting: 0.031517744064331055\n",
      "Valuation score: 0.5446  with 0.6453213691711426 seconds needed to evaluate.\n",
      "Time needed for fitting: 0.19151568412780762\n",
      "Valuation score: 0.7604  with 1.7462399005889893 seconds needed to evaluate.\n",
      "Time needed for fitting: 1.1352653503417969\n",
      "Valuation score: 0.8632  with 4.67051362991333 seconds needed to evaluate.\n",
      "**************************************************************\n",
      "Pipeline\n",
      "Time needed for fitting: 0.21877145767211914\n",
      "Valuation score: 0.6318  with 0.02852153778076172 seconds needed to evaluate.\n",
      "Time needed for fitting: 1.148061990737915\n",
      "Valuation score: 0.6892  with 0.036182403564453125 seconds needed to evaluate.\n",
      "Time needed for fitting: 5.592850685119629\n",
      "Valuation score: 0.7812  with 0.029663562774658203 seconds needed to evaluate.\n",
      "**************************************************************\n",
      "GradientBoostingClassifier\n",
      "Time needed for fitting: 2.560930013656616\n",
      "Valuation score: 0.4908  with 0.10442924499511719 seconds needed to evaluate.\n",
      "Time needed for fitting: 11.743807315826416\n",
      "Valuation score: 0.7166  with 0.18220877647399902 seconds needed to evaluate.\n",
      "Time needed for fitting: 42.619793176651\n",
      "Valuation score: 0.8512  with 0.2286379337310791 seconds needed to evaluate.\n",
      "**************************************************************\n",
      "Total time needed: 85.54170298576355\n"
     ]
    }
   ],
   "source": [
    "# WARNING: this code took about 150 seconds on my machine\n",
    "knn = KNeighborsClassifier()\n",
    "sgd = make_pipeline(StandardScaler(),SGDClassifier(random_state=43))\n",
    "x_trees = ExtraTreesClassifier(random_state=43)\n",
    "svc_rbf = make_pipeline(StandardScaler(),SVC(kernel='rbf', random_state=43)) #  kernel='rbf' is the default in sklearn\n",
    "lin_svc = make_pipeline(StandardScaler(),LinearSVC(random_state=43))\n",
    "grad_boost = GradientBoostingClassifier(random_state=43)\n",
    "\n",
    "classifiers = [knn, sgd,x_trees,svc_rbf,lin_svc, grad_boost]\n",
    "\n",
    "start = time.time()\n",
    "for clf in classifiers:\n",
    "    print(clf.__class__.__name__)\n",
    "    for i in [100,300,900]:\n",
    "        fit_score_time(clf, X_train[:i], y_train[:i], X_val, y_val, prnt=True, oob=False)\n",
    "    print(\"**************************************************************\")\n",
    "end = time.time()\n",
    "print(\"Total time needed:\", end - start)"
   ]
  },
  {
   "cell_type": "markdown",
   "metadata": {},
   "source": [
    "The GradientBoostingClassifier already took long on 1000 instances. Lets check the others additionally on 2700 instances."
   ]
  },
  {
   "cell_type": "code",
   "execution_count": 20,
   "metadata": {},
   "outputs": [
    {
     "name": "stdout",
     "output_type": "stream",
     "text": [
      "KNeighborsClassifier\n",
      "Time needed for fitting: 0.2049868106842041\n",
      "Valuation score: 0.9164  with 23.58067488670349 seconds needed to evaluate.\n",
      "**************************************************************\n",
      "Pipeline\n",
      "Time needed for fitting: 2.623548984527588\n",
      "Valuation score: 0.8782  with 0.029937267303466797 seconds needed to evaluate.\n",
      "**************************************************************\n",
      "ExtraTreesClassifier\n",
      "Time needed for fitting: 1.2328057289123535\n",
      "Valuation score: 0.929  with 0.15026593208312988 seconds needed to evaluate.\n",
      "**************************************************************\n",
      "Pipeline\n",
      "Time needed for fitting: 6.089871406555176\n",
      "Valuation score: 0.9112  with 11.206018686294556 seconds needed to evaluate.\n",
      "**************************************************************\n",
      "Pipeline\n",
      "Time needed for fitting: 15.224082469940186\n",
      "Valuation score: 0.8048  with 0.029173612594604492 seconds needed to evaluate.\n",
      "**************************************************************\n",
      "Total time needed: 60.37609505653381\n"
     ]
    },
    {
     "name": "stderr",
     "output_type": "stream",
     "text": [
      "/opt/conda/lib/python3.6/site-packages/sklearn/svm/_base.py:947: ConvergenceWarning: Liblinear failed to converge, increase the number of iterations.\n",
      "  \"the number of iterations.\", ConvergenceWarning)\n"
     ]
    }
   ],
   "source": [
    "# WARNING: This code took about 74 seconds on my machine\n",
    "knn = KNeighborsClassifier()\n",
    "sgd = make_pipeline(StandardScaler(),SGDClassifier(random_state=43)) # SGD needs all features to have a similar scale (which we have), so we do not try scaling yet\n",
    "x_trees = ExtraTreesClassifier(random_state=43)\n",
    "svc_rbf = make_pipeline(StandardScaler(),SVC(kernel='rbf', random_state=43)) # kernel='rbf' is the default\n",
    "lin_svc = make_pipeline(StandardScaler(),LinearSVC(random_state=43))\n",
    "grad_boost = GradientBoostingClassifier(random_state=43)\n",
    "\n",
    "classifiers = [knn, sgd,x_trees,svc_rbf,lin_svc]\n",
    "\n",
    "start = time.time()\n",
    "for clf in classifiers:\n",
    "    print(clf.__class__.__name__)\n",
    "    for i in [2700]:\n",
    "        fit_score_time(clf, X_train[:i], y_train[:i], X_val, y_val, prnt=True, oob=False)\n",
    "    print(\"**************************************************************\")\n",
    "end = time.time()\n",
    "print(\"Total time needed:\", end - start)"
   ]
  },
  {
   "cell_type": "markdown",
   "metadata": {},
   "source": [
    "*So these were about 3.5 minutes computation, and more time to compare the times and scores manually. But I will not use them again, and they do not generalize well. I do not think that the 2700 instance training was sensible, and at a former version, I already started some hyperparameter training on training sizes of this range at this stage, which turned out useless and very time consuming. I wanted to see if I could get some good scores. So*\n",
    "\n",
    "## Failure: Don't be impatient and greedy"
   ]
  },
  {
   "cell_type": "markdown",
   "metadata": {},
   "source": [
    "*The function \"fit_score_time\" was written to print something nicely out, but already at this stage passing the times and scores to a DataFrame would be much more lucid. And it would not \"spam\" the notebook. Be aware that this will become more and more advisable later, but at the point I realized that I should have done it, I was too lazy to adjust the changes in all the code.*\n",
    "\n",
    "## Failure:  Design your functions properly / don't sort data by hand"
   ]
  },
  {
   "cell_type": "markdown",
   "metadata": {},
   "source": [
    "*Note that at this point I already knew that I did not want to include LinearSVC into a VotingClassifier, as there  would have been an SVC with kernel rbf or another solution (I found out that LinearSVC with Nystroem kernel approximation can be a good substitution, which I later included. Do not ask me why I still kept LinearSVC in the list below.*"
   ]
  },
  {
   "cell_type": "markdown",
   "metadata": {},
   "source": [
    "So here are some observations:\n",
    "\n",
    "Except for LinearSVC, all of the classifiers seem to work and become better. Lets focus on the training and validation time:\n",
    "\n",
    "KNeighborsClassifier: needs very few time to fit no matter what the training size is, but tends to grow more than linear. the validation seems to grow linear with the number of training instances, so training on 32000 instances would take probably 416 seconds on my machine. That's no fun when doing cross validation.\n",
    "\n",
    "ExtraTreesClassifier should behave like random forest, so there are no time issues here to discuss (at least on my machine). note that we should have applied the y_train_label to get better scores.\n",
    "\n",
    "SGDClassifier: behaves in training and validation time like x_trees, so it should be no problem to apply it to the whole training data. note that it did not profit from training 900 or 2700 instances\n",
    "\n",
    "lin_svc: seems to reach its top soon and will probably not make it into 95% and above, and it takes too much time\n",
    "\n",
    "svc_rbf: seems to get much higher, but its training time grows more than linearly and - not to underestimate - its predicting time roughly grows linearly with the number of training instances: Training on 35000 instances will likely take 187 seconds predicting on the validation set on my machine, so too long for making much crossvalidation (apart from the fitting time that will raise non-linear)\n",
    "\n",
    "grad_boost: Seems to work fine, but we have to look whether we could make it work in less time.\n",
    "\n",
    "Next, just try manipulating our digit pictures!"
   ]
  },
  {
   "cell_type": "markdown",
   "metadata": {},
   "source": [
    "*In the next chapter, I discuss the cropping of picture, which I show you as an example how all the next sections were build up.*"
   ]
  },
  {
   "cell_type": "markdown",
   "metadata": {},
   "source": [
    "## Cropping images\n",
    "\n",
    "In this section, we are going to cut the borders of the image and look for the performance of our classifiers"
   ]
  },
  {
   "cell_type": "code",
   "execution_count": 21,
   "metadata": {},
   "outputs": [],
   "source": [
    "# the functions that will do the cropping\n",
    "def crop_inst(X_inst, tr_im_size=[28,28], crop_left=3, crop_right=3, crop_top=3, crop_bottom=3):\n",
    "    \"\"\"crop_data a data instance into its image_size, crops the given pixels from the border\n",
    "    and transforms the new image back into a row array\"\"\"\n",
    "    X_im = X_inst.reshape(tr_im_size)\n",
    "    X_im = X_im[crop_top:-crop_bottom, crop_left:-crop_right] # do the cropping\n",
    "    return X_im.reshape((tr_im_size[0]-crop_top-crop_bottom)*(tr_im_size[1]-crop_left-crop_right))\n",
    "    \n",
    "\n",
    "def crop_data(X_train, tr_im_size=[28,28], crop_left=3, crop_right=3, crop_top=3, crop_bottom=3):\n",
    "    \"\"\"crop_data turns every data instance into its image_size, crops the given pixels from the border\n",
    "    and transforms the new image back into a row array, returning thus a new data set\"\"\"\n",
    "    return np.apply_along_axis(crop_inst,1,X_train,tr_im_size=tr_im_size,crop_left=crop_left,\n",
    "                               crop_right=crop_right, crop_top=crop_top, crop_bottom=crop_bottom)"
   ]
  },
  {
   "cell_type": "code",
   "execution_count": 22,
   "metadata": {},
   "outputs": [
    {
     "data": {
      "image/png": "[encoded data removed]",
      "text/plain": [
       "<Figure size 432x288 with 1 Axes>"
      ]
     },
     "metadata": {
      "needs_background": "light"
     },
     "output_type": "display_data"
    }
   ],
   "source": [
    "# crop_inst should work:\n",
    "plot_digit(crop_inst(X_train[43]), size=22)"
   ]
  },
  {
   "cell_type": "code",
   "execution_count": 23,
   "metadata": {},
   "outputs": [
    {
     "name": "stdout",
     "output_type": "stream",
     "text": [
      "Time needed to crop all instances: 0.4743962287902832\n"
     ]
    },
    {
     "data": {
      "image/png": "[encoded data removed]",
      "text/plain": [
       "<Figure size 432x288 with 1 Axes>"
      ]
     },
     "metadata": {
      "needs_background": "light"
     },
     "output_type": "display_data"
    }
   ],
   "source": [
    "# crop_data should work and not take too long\n",
    "start = time.time()\n",
    "X_crp = crop_data(X_train)\n",
    "end = time.time()\n",
    "print(\"Time needed to crop all instances:\", end-start)\n",
    "plot_digit(X_crp[43], size=22)"
   ]
  },
  {
   "cell_type": "code",
   "execution_count": 24,
   "metadata": {},
   "outputs": [
    {
     "name": "stdout",
     "output_type": "stream",
     "text": [
      "Time needed for fitting: 22.602686405181885\n",
      "Estimate of generalization error from oob (out of bag samples): 0.9868\n"
     ]
    }
   ],
   "source": [
    "# lets see how a random forest performs on the cropped set\n",
    "rdf_clf = RandomForestClassifier(random_state=43, oob_score=True, n_jobs=-1)\n",
    "\n",
    "fit_score_time(rdf_clf, X_crp, y_train_label, crop_data(X_val), y_val_label, prnt=True, oob=True) # took 50 seconds, score 0.987"
   ]
  },
  {
   "cell_type": "markdown",
   "metadata": {},
   "source": [
    "Hey, thats 0.9867 vs 0.9864. But we wanted to reduce the time, and both roughly took 50 seconds even if we dropped 300 pixels per image. I guess that the RandomForest was intelligent enough to see this. But now take a look at the other classifiers and how they perform:"
   ]
  },
  {
   "cell_type": "code",
   "execution_count": 25,
   "metadata": {},
   "outputs": [
    {
     "name": "stdout",
     "output_type": "stream",
     "text": [
      "KNeighborsClassifier\n",
      "Time needed for fitting: 0.15390968322753906\n",
      "Valuation score: 0.9126  with 14.434398651123047 seconds needed to evaluate.\n",
      "**************************************************************\n",
      "Pipeline\n",
      "Time needed for fitting: 2.0138068199157715\n",
      "Valuation score: 0.8808  with 0.01917123794555664 seconds needed to evaluate.\n",
      "**************************************************************\n",
      "ExtraTreesClassifier\n",
      "Time needed for fitting: 1.1054632663726807\n",
      "Valuation score: 0.9316  with 0.15257048606872559 seconds needed to evaluate.\n",
      "**************************************************************\n",
      "Pipeline\n",
      "Time needed for fitting: 3.843366861343384\n",
      "Valuation score: 0.9252  with 6.791297674179077 seconds needed to evaluate.\n",
      "**************************************************************\n",
      "Pipeline\n",
      "Time needed for fitting: 10.52090573310852\n",
      "Valuation score: 0.8026  with 0.018145084381103516 seconds needed to evaluate.\n",
      "**************************************************************\n",
      "Total time needed: 39.361961126327515\n"
     ]
    },
    {
     "name": "stderr",
     "output_type": "stream",
     "text": [
      "/opt/conda/lib/python3.6/site-packages/sklearn/svm/_base.py:947: ConvergenceWarning: Liblinear failed to converge, increase the number of iterations.\n",
      "  \"the number of iterations.\", ConvergenceWarning)\n"
     ]
    }
   ],
   "source": [
    "start = time.time()\n",
    "for clf in classifiers: # reminder: classifiers = [knn,sgd,x_trees,svc_rbf,lin_svc]\n",
    "    print(clf.__class__.__name__)\n",
    "    fit_score_time(clf, X_crp[:2700], y_train[:2700], crop_data(X_val), y_val, prnt=True, oob=False)\n",
    "    print(\"**************************************************************\")\n",
    "    \n",
    "end = time.time()\n",
    "print(\"Total time needed:\", end - start)"
   ]
  },
  {
   "cell_type": "markdown",
   "metadata": {},
   "source": [
    "So here are the approximate times for 2700 training instances needed:\n",
    "\n",
    "|training data |  knn  |     sgd  |  xtrees  | svc_rbf  | lin_svc |\n",
    "|--------------|-------|----------|----------|----------|---------|\n",
    "|not cropped   |  36   |      2.2 |     2.5  |   22.5   | 11.2    |\n",
    "|cropped       |  22.5 |      1.6 |     2.8  |   13.9   | 7.5     |\n",
    "\n",
    "Although it is not an incredible boost in computing time, it is either not bad. Now the scores:\n",
    "\n",
    "|training data |  knn  |     sgd  |  xtrees  | svc_rbf  | lin_svc |\n",
    "|--------------|-------|----------|----------|----------|---------|\n",
    "|not cropped   | 0.916 |    0.842 |   0.933  |   0.904  | 0.805   |\n",
    "|cropped       | 0.913 |    0.826 |   0.930  |   0.925  | 0.803   |\n",
    "\n",
    "*See, I started manually writing tables with the results...*\n",
    "\n",
    "While the svc_rbf performed better and the sgd worse, I would't pay too much attention on the score difference as we did not trained several times on different training data. Lets observe that we do not loose to much information. Note that cropping might be bad to reach a top score as the difficulty lies in classifying the odd pictures. But for performance, this might be enough. Lets test cropping on the whole dataset where the classifier is quick enough (although still taking 235 seconds on my machine):\n",
    "\n",
    "*As I said, I was not patient enough to wait for results on all training instances. From above, it is clear that this will take some minutes.*"
   ]
  },
  {
   "cell_type": "code",
   "execution_count": 26,
   "metadata": {},
   "outputs": [],
   "source": [
    "# takes 235 seconds on my machine\n",
    "if False: # to prevent the kernel to compute again\n",
    "    start = time.time()\n",
    "    print(\"Training instances are not cropped:\")\n",
    "    for clf in [sgd,x_trees]:\n",
    "        print(clf.__class__.__name__)\n",
    "        fit_score_time(clf, X_train, y_train, X_val, y_val, prnt=True, oob=False)\n",
    "        print(\"**************************************************************\")\n",
    "\n",
    "    print(\"Training instances are cropped:\")\n",
    "    for clf in [sgd,x_trees]:\n",
    "        print(clf.__class__.__name__)\n",
    "        fit_score_time(clf, X_crp, y_train, crop_data(X_val), y_val, prnt=True, oob=False)\n",
    "        print(\"**************************************************************\")\n",
    "    end = time.time()\n",
    "    print(\"Total time needed:\", end - start)"
   ]
  },
  {
   "cell_type": "markdown",
   "metadata": {},
   "source": [
    "Hey, at least those too perform slightly better. At least, it is unlikely that the scoring will get much too worse."
   ]
  },
  {
   "cell_type": "markdown",
   "metadata": {},
   "source": [
    "*The next sections are only introduced with their pictures and the markdown cells, as the code remains similar. Only the training on the full training set is reduced to SGDClassifier and ExtraTreesClassifier*"
   ]
  },
  {
   "cell_type": "markdown",
   "metadata": {},
   "source": [
    "## Stratifying images\n",
    "\n",
    "We just want pictures where all pixels are either 1 or 0. Lets see how it performs:"
   ]
  },
  {
   "cell_type": "code",
   "execution_count": 27,
   "metadata": {},
   "outputs": [],
   "source": [
    "# the function is really easy and should be very fast\n",
    "def stratify_data(X_train, threshold=230):\n",
    "    return np.where(X_train>threshold/255, 1, 0).astype(np.bool)"
   ]
  },
  {
   "cell_type": "code",
   "execution_count": 28,
   "metadata": {},
   "outputs": [],
   "source": [
    "# Okay, lets apply\n",
    "X_strat = stratify_data(X_train)"
   ]
  },
  {
   "cell_type": "code",
   "execution_count": 29,
   "metadata": {},
   "outputs": [
    {
     "data": {
      "image/png": "[encoded data removed]",
      "text/plain": [
       "<Figure size 648x648 with 1 Axes>"
      ]
     },
     "metadata": {
      "needs_background": "light"
     },
     "output_type": "display_data"
    }
   ],
   "source": [
    "# no error yet, so lets look if it works:\n",
    "plt.figure(figsize=(9,9))\n",
    "plot_digits(X_strat[:100], images_per_row=10, size=28)"
   ]
  },
  {
   "cell_type": "markdown",
   "metadata": {},
   "source": [
    "*I ended up seeing that the threshold 230 was too high, and tested it with 130 (so that's meant when stratified is said). In fact, setting the threshold to 0 (that means every pixel with value bigger than zero is set to 1) yielded better results. Here are some pictures:*"
   ]
  },
  {
   "cell_type": "code",
   "execution_count": 30,
   "metadata": {},
   "outputs": [
    {
     "data": {
      "image/png": "[encoded data removed]",
      "text/plain": [
       "<Figure size 648x648 with 1 Axes>"
      ]
     },
     "metadata": {
      "needs_background": "light"
     },
     "output_type": "display_data"
    }
   ],
   "source": [
    "# threshold set to 130\n",
    "plt.figure(figsize=(9,9))\n",
    "plot_digits(stratify_data(X_train, threshold=130)[:100], images_per_row=10, size=28)"
   ]
  },
  {
   "cell_type": "code",
   "execution_count": 31,
   "metadata": {},
   "outputs": [
    {
     "data": {
      "image/png": "[encoded data removed]",
      "text/plain": [
       "<Figure size 648x648 with 1 Axes>"
      ]
     },
     "metadata": {
      "needs_background": "light"
     },
     "output_type": "display_data"
    }
   ],
   "source": [
    "# threshold set to 0\n",
    "plt.figure(figsize=(9,9))\n",
    "plot_digits(stratify_data(X_train, threshold=0)[:100], images_per_row=10, size=28)"
   ]
  },
  {
   "cell_type": "markdown",
   "metadata": {},
   "source": [
    "So we collect the data: Time needed (I assume that the stratifying is so quick that fitting the validation data does not count too much)\n",
    "\n",
    "|training data |  knn  |     sgd  |  xtrees  | svc_rbf  | lin_svc |\n",
    "|--------------|-------|----------|----------|----------|---------|\n",
    "|unmodified    |  36   |      2.2 |     2.5  |   22.5   | 11.2    |\n",
    "|cropped       |  22.5 |      1.6 |     2.8  |   13.9   | 7.5     |\n",
    "|stratified    | 34.2  |   1.8    | 2.5      |   23.5   |  11.1   |\n",
    "|strat extreme | 34.2  |   1.8    | 2.5      |   23.5   |  11.1   | times are roughly as stratified\n",
    "\n",
    "And the scores:\n",
    "\n",
    "|training data |  knn  |     sgd  |  xtrees  | svc_rbf  | lin_svc |\n",
    "|--------------|-------|----------|----------|----------|---------|\n",
    "|unmodified    | 0.916 |    0.842 |   0.933  |   0.904  | 0.805   |\n",
    "|cropped       | 0.913 |    0.826 |   0.930  |   0.925  | 0.803   |\n",
    "|stratified    | 0.895 |   0.831  | 0.921    |   0.901  |  0.766  |\n",
    "|strat extreme | 0.922 |   0.853  | 0.941    |   0.917  |  0.794  |\n",
    "\n",
    "For threshold=130, we have a loss in our scoring without being quicker. Thats surprising in particular for the xtrees, because the random forest was much quicker. But setting threshold=0, the scores become a little bit better for all classifiers. Lets try SGD and xtrees on all of the training set.\n",
    "\n",
    "*After training SGD and xtrees, I gave stratify_data_soft a shot, meaning that each pixel value below threshold is turned to 0, the others remaining the same.*"
   ]
  },
  {
   "cell_type": "code",
   "execution_count": 32,
   "metadata": {},
   "outputs": [],
   "source": [
    "def stratify_data_soft(X_train, threshold=130):\n",
    "    return np.where(X_train>threshold/255, X_train, 0) # /255 added because data pixels are assumed to be in [0,1]"
   ]
  },
  {
   "cell_type": "code",
   "execution_count": 33,
   "metadata": {},
   "outputs": [
    {
     "data": {
      "image/png": "[encoded data removed]",
      "text/plain": [
       "<Figure size 648x648 with 1 Axes>"
      ]
     },
     "metadata": {
      "needs_background": "light"
     },
     "output_type": "display_data"
    }
   ],
   "source": [
    "# stratify_data_soft with threshold=130:\n",
    "plt.figure(figsize=(9,9))\n",
    "plot_digits(stratify_data_soft(X_train, threshold=130)[:100], images_per_row=10, size=28)"
   ]
  },
  {
   "cell_type": "markdown",
   "metadata": {},
   "source": [
    "So we collect the data: Time needed (I assume that the stratifying is so quick that fitting the validation data does not count too much)\n",
    "\n",
    "|training data |  knn  |     sgd  |  xtrees  | svc_rbf  | lin_svc |\n",
    "|--------------|-------|----------|----------|----------|---------|\n",
    "|unmodified    |  36   |      2.2 |     2.5  |   22.5   | 11.2    |\n",
    "|cropped       |  22.5 |      1.6 |     2.8  |   13.9   | 7.5     |\n",
    "|stratified    | 34.2  |   1.8    | 2.5      |   23.5   |  11.1   |\n",
    "|strat extreme | 34.2  |   1.8    | 2.5      |   23.5   |  11.1   | times are roughly as stratified\n",
    "|soft strat    | 34.2  |   1.8    | 2.5      |   23.5   |  11.1   | times are roughly as stratified\n",
    "\n",
    "And the scores:\n",
    "\n",
    "|training data |  knn  |     sgd  |  xtrees  | svc_rbf  | lin_svc |\n",
    "|--------------|-------|----------|----------|----------|---------|\n",
    "|unmodified    | 0.916 |    0.842 |   0.933  |   0.904  | 0.805   |\n",
    "|cropped       | 0.913 |    0.826 |   0.930  |   0.925  | 0.803   |\n",
    "|stratified    | 0.895 |   0.831  | 0.921    |   0.901  |  0.766  |\n",
    "|strat extreme | 0.922 |   0.853  | 0.941    |   0.917  |  0.794  |\n",
    "|strat soft    | 0.892 |   0.818  | 0.918    |   0.899  |  0.769  |\n",
    "\n",
    "As expected, the scoring is worse when doin soft stratifying."
   ]
  },
  {
   "cell_type": "markdown",
   "metadata": {},
   "source": [
    "## Resizing the images\n",
    "\n",
    "Here, we are going to rescale the images to reduce dimension and see how much information will be lost. First start playing around:"
   ]
  },
  {
   "cell_type": "code",
   "execution_count": 34,
   "metadata": {},
   "outputs": [
    {
     "data": {
      "text/plain": [
       "<matplotlib.image.AxesImage at 0x7fa58bb74d68>"
      ]
     },
     "execution_count": 34,
     "metadata": {},
     "output_type": "execute_result"
    },
    {
     "data": {
      "image/png": "[encoded data removed]",
      "text/plain": [
       "<Figure size 432x288 with 1 Axes>"
      ]
     },
     "metadata": {
      "needs_background": "light"
     },
     "output_type": "display_data"
    }
   ],
   "source": [
    "# reshape the data to 28x28 image\n",
    "some_digit = X_train[42]\n",
    "some_image = some_digit.reshape(28,28)\n",
    "\n",
    "# resize the image to 7x7\n",
    "from skimage.transform import resize\n",
    "some_scaled_image = resize(some_image,(7,7))\n",
    "\n",
    "plt.imshow(some_scaled_image, cmap = 'gray') # should be a 9"
   ]
  },
  {
   "cell_type": "code",
   "execution_count": 35,
   "metadata": {},
   "outputs": [
    {
     "data": {
      "text/plain": [
       "<matplotlib.image.AxesImage at 0x7fa58badc0b8>"
      ]
     },
     "execution_count": 35,
     "metadata": {},
     "output_type": "execute_result"
    },
    {
     "data": {
      "image/png": "[encoded data removed]",
      "text/plain": [
       "<Figure size 432x288 with 1 Axes>"
      ]
     },
     "metadata": {
      "needs_background": "light"
     },
     "output_type": "display_data"
    }
   ],
   "source": [
    "# Well, this will certainly be too small to train any digit recognizer (but maybe, you can try!)\n",
    "# reshape the data to 28x28 image\n",
    "some_digit = X_train[41]\n",
    "some_image = some_digit.reshape(28,28)\n",
    "\n",
    "# resize the image to 7x7\n",
    "from skimage.transform import resize\n",
    "some_scaled_image = resize(some_image,(14,14))\n",
    "\n",
    "plt.imshow(some_scaled_image, cmap = 'gray') # should be a nine"
   ]
  },
  {
   "cell_type": "code",
   "execution_count": 36,
   "metadata": {},
   "outputs": [],
   "source": [
    "# this seems reasonable or at least manageable. lets define the functions (note that the\n",
    "# mode of the resizer and anti_aliasing are hyperparameter as well. we won't dive in this\n",
    "\n",
    "def instance_resizer(instance, orig_im_size=(28,28), new_im_size=(14,14), mode='reflect', anti_aliasing=True):\n",
    "    \"\"\"takes a vector, interprets it as a picture, resizes it and returns the new image as a vector\"\"\"\n",
    "    image_orig = instance.reshape(orig_im_size)\n",
    "    image_new = resize(image_orig, new_im_size, mode=mode)\n",
    "    inst_transformed = image_new.reshape(new_im_size[0]*new_im_size[1])\n",
    "    return inst_transformed\n",
    "\n",
    "def resize_train(X_train, orig_im_size=(28,28), new_im_size=(14,14), mode='reflect',anti_aliasing=True):\n",
    "    \"\"\"applies instance_resizer to every instance\"\"\"\n",
    "    return np.apply_along_axis(instance_resizer,1,X_train,orig_im_size=orig_im_size,new_im_size=new_im_size,\n",
    "                               mode=mode, anti_aliasing=anti_aliasing)"
   ]
  },
  {
   "cell_type": "code",
   "execution_count": 37,
   "metadata": {},
   "outputs": [
    {
     "data": {
      "text/plain": [
       "<matplotlib.image.AxesImage at 0x7fa58babc208>"
      ]
     },
     "execution_count": 37,
     "metadata": {},
     "output_type": "execute_result"
    },
    {
     "data": {
      "image/png": "[encoded data removed]",
      "text/plain": [
       "<Figure size 432x288 with 1 Axes>"
      ]
     },
     "metadata": {
      "needs_background": "light"
     },
     "output_type": "display_data"
    }
   ],
   "source": [
    "# apply on some digit\n",
    "plt.imshow(instance_resizer(X_train[41]).reshape(14,14), cmap = 'gray')"
   ]
  },
  {
   "cell_type": "code",
   "execution_count": 38,
   "metadata": {},
   "outputs": [
    {
     "name": "stdout",
     "output_type": "stream",
     "text": [
      "Time needed for resizing: 38.47121739387512\n"
     ]
    },
    {
     "data": {
      "text/plain": [
       "<matplotlib.image.AxesImage at 0x7fa58ba93b38>"
      ]
     },
     "execution_count": 38,
     "metadata": {},
     "output_type": "execute_result"
    },
    {
     "data": {
      "image/png": "[encoded data removed]",
      "text/plain": [
       "<Figure size 432x288 with 1 Axes>"
      ]
     },
     "metadata": {
      "needs_background": "light"
     },
     "output_type": "display_data"
    }
   ],
   "source": [
    "# looks fine. does it work on X_train? how long will it take?\n",
    "start = time.time()\n",
    "X_res = resize_train(X_train)\n",
    "end = time.time()\n",
    "print(\"Time needed for resizing:\", end - start) # about 44 seconds\n",
    "plt.imshow(X_res[41].reshape(14,14), cmap = 'gray')"
   ]
  },
  {
   "cell_type": "code",
   "execution_count": 39,
   "metadata": {},
   "outputs": [
    {
     "data": {
      "image/png": "[encoded data removed]",
      "text/plain": [
       "<Figure size 648x648 with 1 Axes>"
      ]
     },
     "metadata": {
      "needs_background": "light"
     },
     "output_type": "display_data"
    }
   ],
   "source": [
    "# looks nice. lets plot some of them:\n",
    "plt.figure(figsize=(9,9))\n",
    "plot_digits(X_res[:100], images_per_row=10, size=14)"
   ]
  },
  {
   "cell_type": "markdown",
   "metadata": {},
   "source": [
    "So we add the stats (I should have altered the functions and use a pd DataFrame...)\n",
    "\n",
    "Time needed\n",
    "\n",
    "|training data |  knn  |     sgd  |  xtrees  | svc_rbf  | lin_svc |\n",
    "|--------------|-------|----------|----------|----------|---------|\n",
    "|unmodified    |  36   |      2.2 |     2.5  |   22.5   | 11.2    |\n",
    "|cropped       |  22.5 |      1.6 |     2.8  |   13.9   | 7.5     |\n",
    "|stratified    | 34.2  |   1.8    | 2.5      |   23.5   |  11.1   |\n",
    "|strat extreme | 34.2  |   1.8    | 2.5      |   23.5   |  11.1   | times are roughly as stratified\n",
    "|soft strat    | 34.2  |   1.8    | 2.5      |   23.5   |  11.1   | times are roughly as stratified\n",
    "|resize        | 9.7   |   0.61   | 1.4      |   5.8    |  3.2    |\n",
    "\n",
    "And the scores:\n",
    "\n",
    "|training data |  knn  |     sgd  |  xtrees  | svc_rbf  | lin_svc |\n",
    "|--------------|-------|----------|----------|----------|---------|\n",
    "|unmodified    | 0.916 |    0.842 |   0.933  |   0.904  | 0.805   |\n",
    "|cropped       | 0.913 |    0.826 |   0.930  |   0.925  | 0.803   |\n",
    "|stratified    | 0.895 |   0.831  | 0.921    |   0.901  |  0.766  |\n",
    "|strat extreme | 0.922 |   0.853  | 0.941    |   0.917  |  0.794  |\n",
    "|strat soft    | 0.892 |   0.818  | 0.918    |   0.899  |  0.769  |\n",
    "|resize        | 0.930 |   0.882  | 0.937    |   0.921  |  0.859  |\n",
    "\n",
    "So all in all, it not only gave us a time boost (okay, we killed 588 features from 784), but also increased the scoring. Lets check if this holds on the whole training set:"
   ]
  },
  {
   "cell_type": "markdown",
   "metadata": {},
   "source": [
    "## Polluting the pictures\n",
    "\n",
    "With stratifying, we have focused our digits on the essential forms. As the objective is to label the hard pictures right, we may want to force the classifiers to focus on the essential parts of a number by polluting the picture with some random pixels:"
   ]
  },
  {
   "cell_type": "code",
   "execution_count": 40,
   "metadata": {},
   "outputs": [
    {
     "data": {
      "image/png": "[encoded data removed]",
      "text/plain": [
       "<Figure size 432x288 with 1 Axes>"
      ]
     },
     "metadata": {
      "needs_background": "light"
     },
     "output_type": "display_data"
    }
   ],
   "source": [
    "plot_digit(X_train[54])"
   ]
  },
  {
   "cell_type": "code",
   "execution_count": 41,
   "metadata": {},
   "outputs": [
    {
     "name": "stdout",
     "output_type": "stream",
     "text": [
      "0.788235294117647\n",
      "0.5215686274509804\n"
     ]
    }
   ],
   "source": [
    "# whats roughly the value for the pollution?\n",
    "print(X_train[54].reshape(28,28)[5,22])\n",
    "print(X_train[54].reshape(28,28)[4,22])"
   ]
  },
  {
   "cell_type": "code",
   "execution_count": 42,
   "metadata": {},
   "outputs": [],
   "source": [
    "# here are the functions:\n",
    "def pollute_instance(instance, im_size=(28,28), n_poll_pic=1, random_state = None):\n",
    "    if not random_state is None:\n",
    "        np.random.seed(random_state)\n",
    "    inst = instance.copy() # otherwise, we change the original data\n",
    "    image = inst.reshape(im_size)\n",
    "    # set rectangle with pollution\n",
    "    for _ in range(n_poll_pic):\n",
    "        a, b = np.random.randint(0,im_size[0]), 1+int(4*np.random.uniform())\n",
    "        c, d = np.random.randint(0,im_size[1]), 1+int(4*np.random.uniform())\n",
    "        # start polluting\n",
    "        for i in range(a,a+b):\n",
    "            for j in range(c,c+d):\n",
    "                try:\n",
    "                    image[i,j] = np.random.randint(50,200)/255 # /255 added afterwards because pixels now assumed to be in [0,1]\n",
    "                except IndexError:\n",
    "                    pass\n",
    "    inst_transformed = image.reshape(im_size[0]*im_size[1])\n",
    "\n",
    "    return inst_transformed\n",
    "    \n",
    "\n",
    "def pollute_training(X_train, im_size=(28,28), n_poll_pic=1, random_state = None):\n",
    "    # usually, we would have used the following code, but it does not work with random_state set because in each\n",
    "    # instance the same pixels are polluted\n",
    "    if random_state is None:\n",
    "        return np.apply_along_axis(pollute_instance,1,X_train,im_size=im_size,\n",
    "                                   n_poll_pic=n_poll_pic, random_state=random_state)\n",
    "    else:\n",
    "        X_pol = X_train.copy()\n",
    "        for i in range(X_train.shape[0]):\n",
    "            X_pol[i] = pollute_instance(X_train[i],im_size=im_size, n_poll_pic=n_poll_pic,\n",
    "                                        random_state=random_state+i)\n",
    "        return X_pol"
   ]
  },
  {
   "cell_type": "code",
   "execution_count": 43,
   "metadata": {},
   "outputs": [
    {
     "name": "stdout",
     "output_type": "stream",
     "text": [
      "Time needed for polluting training data: 5.256902694702148\n"
     ]
    },
    {
     "data": {
      "image/png": "[encoded data removed]",
      "text/plain": [
       "<Figure size 720x720 with 1 Axes>"
      ]
     },
     "metadata": {
      "needs_background": "light"
     },
     "output_type": "display_data"
    }
   ],
   "source": [
    "# lets try:\n",
    "start = time.time()\n",
    "X_pol = pollute_training(X_train, random_state=43)\n",
    "end = time.time()\n",
    "print(\"Time needed for polluting training data:\", end - start) # is about 5 seconds, so quick enough\n",
    "plt.figure(figsize=(10,10))\n",
    "plot_digits(X_pol[:100], images_per_row=10, size=28)"
   ]
  },
  {
   "cell_type": "code",
   "execution_count": 44,
   "metadata": {},
   "outputs": [
    {
     "data": {
      "image/png": "[encoded data removed]",
      "text/plain": [
       "<Figure size 720x720 with 1 Axes>"
      ]
     },
     "metadata": {
      "needs_background": "light"
     },
     "output_type": "display_data"
    }
   ],
   "source": [
    "# nice. lets test two polluted areas:\n",
    "plt.figure(figsize=(10,10))\n",
    "plot_digits(pollute_training(X_train[:100], n_poll_pic=2), images_per_row=10, size=28)"
   ]
  },
  {
   "cell_type": "markdown",
   "metadata": {},
   "source": [
    "As expected, the training time of the random forest did not change on the polluted data, whereas the score decreased slightly (0.004)\n",
    "\n",
    "Add the stats\n",
    "\n",
    "Time needed\n",
    "\n",
    "|training data |  knn  |     sgd  |  xtrees  | svc_rbf  | lin_svc |\n",
    "|--------------|-------|----------|----------|----------|---------|\n",
    "|unmodified    |  36   |      2.2 |     2.5  |   22.5   | 11.2    |\n",
    "|cropped       |  22.5 |      1.6 |     2.8  |   13.9   | 7.5     |\n",
    "|stratified    | 34.2  |   1.8    | 2.5      |   23.5   |  11.1   |\n",
    "|strat extreme | 34.2  |   1.8    | 2.5      |   23.5   |  11.1   | times are roughly as stratified\n",
    "|soft strat    | 34.2  |   1.8    | 2.5      |   23.5   |  11.1   | times are roughly as stratified\n",
    "|resize        | 9.7   |   0.61   | 1.4      |   5.8    |  3.2    |\n",
    "|polluted      |  36   |      2.2 |     2.5  |   22.5   | 11.2    | times are roughly as unmodified\n",
    "\n",
    "And the scores:\n",
    "\n",
    "|training data |  knn  |     sgd  |  xtrees  | svc_rbf  | lin_svc |\n",
    "|--------------|-------|----------|----------|----------|---------|\n",
    "|unmodified    | 0.916 |    0.842 |   0.933  |   0.904  | 0.805   |\n",
    "|cropped       | 0.913 |    0.826 |   0.930  |   0.925  | 0.803   |\n",
    "|stratified    | 0.895 |   0.831  | 0.921    |   0.901  |  0.766  |\n",
    "|strat extreme | 0.922 |   0.853  | 0.941    |   0.917  |  0.794  |\n",
    "|strat soft    | 0.892 |   0.818  | 0.918    |   0.899  |  0.769  |\n",
    "|resize        | 0.930 |   0.882  | 0.937    |   0.921  |  0.859  |\n",
    "|polluted      | 0.914 |    0.856 |   0.933  |   0.922  | 0.821   |\n",
    "\n",
    "So training took the same time on the polluted data, and accuracy did not become worse. In fact, the weaker learners svc's and sgd profited.\n",
    "\n",
    "Lets test it on the whole resized dataset:"
   ]
  },
  {
   "cell_type": "markdown",
   "metadata": {},
   "source": [
    "Not bad: The SGDClassifier jumped from 88.7 to 91.6, and x_trees kept ist score. Maybe, we will later play more with polluting (in particular number of polluted areas. Lets turn to:"
   ]
  },
  {
   "cell_type": "markdown",
   "metadata": {},
   "source": [
    "## Data Augmentation\n",
    "\n",
    "This is a standard technique and known to work well for MNIST. Although it will increase training time a lot, cropping and resizing might be so fast that my machine will not make too much trouble. *Haha, thats the point were I started to see memory failures*. Here we go:"
   ]
  },
  {
   "cell_type": "code",
   "execution_count": 45,
   "metadata": {},
   "outputs": [],
   "source": [
    "# shift_instance and rand_shift_training are adapted versions from Aurelien Gerons book chapter 3 additional material\n",
    "# see his notebooks\n",
    "# to avoid combinatorial explosion, we use random shifting and rotating\n",
    "\n",
    "def shift_instance(instance, dx, dy, new=0, im_size=(28,28)):\n",
    "    return shift(instance.reshape(im_size), [dy, dx], cval=new).reshape(im_size[0]*im_size[1])\n",
    "\n",
    "def rand_shift_training(X_train, y_train, dx_max=2, dy_max=2, n_shifts = 4, new=0,\n",
    "                        im_size=(28,28), random_state=None, only_axes=True, do_shuffle=True):\n",
    "    \n",
    "    if not random_state is None:\n",
    "        np.random.seed(random_state)\n",
    "    \n",
    "    # collect all possibilities to move an image with given dx_max, dy_max\n",
    "    moving_vectors = []\n",
    "    if only_axes:\n",
    "        for i in range(1,dx_max+1): # if i=0 or j=0, we will get double entries. we will remove them below\n",
    "            moving_vectors.append((i,0))\n",
    "            moving_vectors.append((-i,0))\n",
    "        for i in range(1,dy_max+1):\n",
    "            moving_vectors.append((0,i))\n",
    "            moving_vectors.append((0,-i))\n",
    "    else:\n",
    "        for i in range(0,dx_max+1):\n",
    "            for j in range(0,dy_max+1): # if i=0 or j=0, we will get double entries. we will remove them below\n",
    "                moving_vectors.append((i,j))\n",
    "                moving_vectors.append((-i,j))\n",
    "                moving_vectors.append((i,-j))\n",
    "                moving_vectors.append((-i,-j))\n",
    "    \n",
    "    moving_vectors = list(set(moving_vectors)) # removes double entries from moving_vectors\n",
    "\n",
    "    # we do not want to double images, so remove (0,0) from moving_vectors\n",
    "    try:\n",
    "        moving_vectors.remove((0,0))\n",
    "    except ValueError:\n",
    "        if not only_axes: # because there should be no (0,0) inside if only_axes is True\n",
    "            print(\"No (0,0) could be removed from moving_vectors. Please check the code.\")\n",
    "    \n",
    "    \n",
    "    X_train_expanded = []\n",
    "    y_train_expanded = []\n",
    "    \n",
    "    # move image by moving_vectors and add to X_train_expanded\n",
    "    for i in range(X_train.shape[0]):\n",
    "        try:\n",
    "            for dx, dy in random.sample(moving_vectors, n_shifts):\n",
    "                shifted_image = shift_instance(X_train[i], dx=dx, dy=dy, new=0, im_size=im_size)\n",
    "                X_train_expanded.append(shifted_image)\n",
    "                y_train_expanded.append(y_train[i])\n",
    "        except ValueError:\n",
    "            print(\"Using maximal possible shifts. This might be smaller thatn n_shifts.\")\n",
    "            for dx, dy in moving_vectors:\n",
    "                shifted_image = shift_instance(X_train[i], dx=dx, dy=dy, new=0, im_size=im_size)\n",
    "                X_train_expanded.append(shifted_image)\n",
    "                y_train_expanded.append(y_train[i])\n",
    "\n",
    "    X_train_expanded = np.array(X_train_expanded, dtype=np.uint8)\n",
    "    y_train_expanded = np.array(y_train_expanded, dtype=np.uint8)\n",
    "    \n",
    "    # shuffle the new shifted images to avoid classifiers see the same number for too many times\n",
    "    if do_shuffle:\n",
    "        X_train_expanded, y_train_expanded = shuffle(X_train_expanded, y_train_expanded, random_state=random_state)\n",
    "    return X_train_expanded, y_train_expanded\n",
    "\n",
    "def rand_rotate_instance(instance, angle=10, new=0, im_size=(28,28)):\n",
    "    return rotate(instance.reshape(im_size), angle=angle, cval=new, reshape=False).reshape(im_size[0]*im_size[1])\n",
    "\n",
    "def rand_rotate_training(X_train, y_train, angle_range=(5,10), im_size=(28,28),\n",
    "                        sign=True, do_shuffle=True, random_state=None):\n",
    "    \n",
    "    if not random_state is None:\n",
    "        np.random.seed(random_state)\n",
    "    \n",
    "    X_rot = X_train.copy()\n",
    "    for i in range(X_train.shape[0]): # we need this loop to not always get the same rotation\n",
    "        angle = np.random.randint(angle_range[0],angle_range[1])\n",
    "        X_rot[i] = rand_rotate_instance(X_train[i],angle=angle,im_size=im_size)\n",
    "    \n",
    "    if sign:\n",
    "        X_rot_sign = X_train.copy()\n",
    "        for i in range(X_train.shape[0]): # we need this loop to not always get the same rotation\n",
    "            angle = np.random.randint(angle_range[0],angle_range[1])\n",
    "            X_rot_sign[i] = rand_rotate_instance(X_train[i],angle=-angle,im_size=im_size)\n",
    "        \n",
    "        # shuffle the new shifted images to avoid classifiers see the same number for too many times\n",
    "        if do_shuffle:\n",
    "            X_train_expanded, y_train_expanded = shuffle(np.concatenate((X_rot, X_rot_sign)),\n",
    "                                                         np.concatenate((y_train, y_train)),\n",
    "                                                         random_state=random_state)\n",
    "        return X_train_expanded, y_train_expanded    \n",
    "    else:\n",
    "        return X_rot, y_train"
   ]
  },
  {
   "cell_type": "markdown",
   "metadata": {},
   "source": [
    "Normally, I would like to test the performance on the augmented set, but it would take too long time. *Because I tested this...*\n",
    "\n",
    "Next, we are anyway writing a preprocessor class with some of our steps done so far.*That was my aim, but there are problems implementing data augmentation as one has to take care of passing a bigger target array. As far as I see this, sklearn classes are only meant to pass the training data in the transform method.*"
   ]
  },
  {
   "cell_type": "markdown",
   "metadata": {},
   "source": [
    "## Fine tuning of our classifiers\n",
    "\n",
    "First, we will transform our preprocessing steps into a custom transformer. Then we will do hyperparameter tuning on (hopefully) augmented, polluted, resized, cropped, stratified training data. Hopefully, the hyperparameters will be good enough when we will fit our models overnight on the augmented or augmented polluted training instances. So lets start with our custom transformer class:"
   ]
  },
  {
   "cell_type": "code",
   "execution_count": 46,
   "metadata": {},
   "outputs": [],
   "source": [
    "class ImageTransformer(BaseEstimator, TransformerMixin):\n",
    "    def __init__(self, resize=True, pollute=True, crop=True, stratify=True, n_poll_pic=1, random_state=None): # pass only whether to apply some transformations and random state\n",
    "        self.resize = resize\n",
    "        self.crop = crop\n",
    "        self.stratify = stratify\n",
    "        self.pollute = pollute\n",
    "        self.n_poll_pic = n_poll_pic\n",
    "        self.random_state = random_state\n",
    "    def fit(self, X, y=None):\n",
    "        return self  # nothing else to do\n",
    "    def transform(self, X): \n",
    "        if self.pollute:\n",
    "            X = pollute_training(X,n_poll_pic = self.n_poll_pic, random_state=self.random_state)\n",
    "        if self.resize:\n",
    "            if X.shape[1] != 14*14: # only resize if pictures are not already resized to (14,14)\n",
    "                X = resize_train(X)\n",
    "        if self.crop:\n",
    "            X = crop_data(X, tr_im_size=[14,14], crop_left=1, crop_right=1, crop_top=1, crop_bottom=1)\n",
    "        if self.stratify:\n",
    "            stratify_data(X, threshold=0)\n",
    "        return X"
   ]
  },
  {
   "cell_type": "code",
   "execution_count": 47,
   "metadata": {},
   "outputs": [],
   "source": [
    "def augment_training(X_train, y_train,dx_max=2,dy_max=2,n_shifts = 4,angle_range=(5,10),im_size=(28,28),\n",
    "                     only_axes=False, do_shuffle=True, sign=True, random_state=None):\n",
    "    X_shift, y_shift = rand_shift_training(X_train, y_train, dx_max=dx_max, dy_max=dy_max, n_shifts = n_shifts, \n",
    "                        im_size=im_size, random_state=random_state, only_axes=only_axes, do_shuffle=do_shuffle)\n",
    "    X_rot, y_rot = rand_rotate_training(X_train, y_train, angle_range=angle_range, im_size=im_size,\n",
    "                        sign=sign, do_shuffle=do_shuffle, random_state=random_state)\n",
    "    X_train = np.concatenate((X_train,X_shift, X_rot))\n",
    "    y_train = np.concatenate((y_train, y_shift, y_rot))\n",
    "    return X_train, y_train"
   ]
  },
  {
   "cell_type": "markdown",
   "metadata": {},
   "source": [
    "*The problem has already be explained: I would have liked to put augment_training into the class, but passing X and the target y into the transform method does not seem to fit the design of scikit-learn. Note that the class could be much more complete by passing the arguments of the functions when initializin, but I was too lazy to enable the class to do more than the default values of the functions.*\n",
    "\n",
    "*What I did try first was to augment the training data with 4 shifts and two rotations of each instance, but running into memory problems. I restricted to 2 shifts, and polluted them, then resizing, then cropping and stratifying. But this took way too long because resizing the pictures takes time. So I was forced to first resize the pictures and then augment them (with maximal lenght of shifts 1).*\n",
    "\n",
    "*Before augmenting the data, I wanted to look how polluting, cropping and stratifying affects the classifiers. This was way too greedy, as it took roughly 40 minutes:*"
   ]
  },
  {
   "cell_type": "code",
   "execution_count": 48,
   "metadata": {},
   "outputs": [],
   "source": [
    "if False: # WARNING:took 2457 seconds on my machine\n",
    "    knn = KNeighborsClassifier()\n",
    "    sgd = make_pipeline(StandardScaler(),SGDClassifier(random_state=43)) # SGD needs all features to have a similar scale (which we have), so we do not try scaling yet\n",
    "    x_trees = ExtraTreesClassifier(random_state=43)\n",
    "    svc_rbf = make_pipeline(StandardScaler(),SVC(kernel='rbf', random_state=43)) #  kernel='rbf' is the default in sklearn\n",
    "    svc_nyst_rbf = make_pipeline(StandardScaler(),Nystroem(kernel='rbf', random_state=43),LinearSVC())\n",
    "    grad_boost = GradientBoostingClassifier(random_state=43)\n",
    "\n",
    "    # now resize True for predicting\n",
    "    im_transf = ImageTransformer(resize=True, pollute=True, crop=True, stratify=True,random_state=43)\n",
    "    im_transf2 = ImageTransformer(resize=False, pollute=False, crop=True, stratify=True,random_state=43)\n",
    "\n",
    "    classifiers = [knn, sgd, x_trees, svc_rbf, svc_nyst_rbf]\n",
    "    params = [{'crop': [True,False], 'stratify': [True,False]}]\n",
    "\n",
    "    X_val_res = resize_train(X_val) # so to not always resize again in the loop; we do not want pollute validating set\n",
    "\n",
    "    start = time.time()\n",
    "    for pol in [True, False]:\n",
    "        im_transf.set_params(**{'resize': True, 'pollute': pol, 'crop': False, 'stratify': False,'random_state': 43})\n",
    "        X = im_transf.transform(X_train)\n",
    "        for dic in list(ParameterGrid(params)):\n",
    "            im_transf2.set_params(**dic)\n",
    "            print(\"Pollution is set to\", pol)\n",
    "            print(\"Now apply ImageTransformer with\", im_transf2.get_params())\n",
    "            for clf in classifiers: # reminder: classifiers = [knn,sgd,x_trees,svc_rbf,lin_svc]\n",
    "                print(clf.__class__.__name__)\n",
    "                fit_score_time(clf, im_transf2.transform(X), y_train, im_transf2.transform(X_val_res), y_val, prnt=True, oob=False)\n",
    "                print(\"**************************************************************\")\n",
    "\n",
    "    end = time.time()\n",
    "    print(\"Total time needed:\", end - start)"
   ]
  },
  {
   "cell_type": "markdown",
   "metadata": {},
   "source": [
    "*As you easily see, the output is a pain to evaluate.*\n",
    "\n",
    "**Update** *Due to upload you don't see the inital output again, but its a long long list of the kind of cell 24, only longer and impractical to use*\n",
    "## Failure: Care for a lucid overview of your results\n",
    "*But if you do, you will see that the transformations applied nearly make no difference.*\n",
    "\n",
    "*I next tried to pollute the pictures more, setting n_poll_pic = 10, which results in the following:*"
   ]
  },
  {
   "cell_type": "code",
   "execution_count": 49,
   "metadata": {},
   "outputs": [
    {
     "data": {
      "image/png": "[encoded data removed]",
      "text/plain": [
       "<Figure size 720x720 with 1 Axes>"
      ]
     },
     "metadata": {
      "needs_background": "light"
     },
     "output_type": "display_data"
    }
   ],
   "source": [
    "im_transf = ImageTransformer(resize=True, pollute=True, crop=True, stratify=False, n_poll_pic=10, random_state=43)\n",
    "plt.figure(figsize=(10,10))\n",
    "plot_digits(im_transf.transform(X_train[:100]), images_per_row=10, size=12)"
   ]
  },
  {
   "cell_type": "markdown",
   "metadata": {},
   "source": [
    "*The classifiers responded worse on these pictures. So I decided to just use resizing, because it was the only technique that gave a real boost in computing time with nearly the same score.*\n",
    "\n",
    "*Next, I started tuning the hyperparameters on the training set or on the first 10000 instances of the training set, hoping they would generalize well to the better training data. Like this:*"
   ]
  },
  {
   "cell_type": "code",
   "execution_count": 50,
   "metadata": {},
   "outputs": [],
   "source": [
    "# thats the training data we work with\n",
    "im_transf = ImageTransformer(resize=True, pollute=False, crop=False, stratify=False,random_state=43)\n",
    "X = im_transf.transform(X_train)\n",
    "X_val_res = im_transf.transform(X_val)"
   ]
  },
  {
   "cell_type": "code",
   "execution_count": 51,
   "metadata": {},
   "outputs": [
    {
     "name": "stdout",
     "output_type": "stream",
     "text": [
      "KNeighborsClassifier\n",
      "{'n_neighbors': 2, 'weights': 'uniform'}\n",
      "Time needed for fitting: 0.2797820568084717\n",
      "Valuation score: 0.957  with 7.927957773208618 seconds needed to evaluate.\n",
      "**************************************************************\n",
      "KNeighborsClassifier\n",
      "{'n_neighbors': 2, 'weights': 'distance'}\n",
      "Time needed for fitting: 0.2792956829071045\n",
      "Valuation score: 0.9566  with 8.024781703948975 seconds needed to evaluate.\n",
      "**************************************************************\n",
      "KNeighborsClassifier\n",
      "{'n_neighbors': 4, 'weights': 'uniform'}\n",
      "Time needed for fitting: 0.2813284397125244\n",
      "Valuation score: 0.9616  with 8.43224811553955 seconds needed to evaluate.\n",
      "**************************************************************\n",
      "KNeighborsClassifier\n",
      "{'n_neighbors': 4, 'weights': 'distance'}\n",
      "Time needed for fitting: 0.2756998538970947\n",
      "Valuation score: 0.9628  with 8.327327489852905 seconds needed to evaluate.\n",
      "**************************************************************\n",
      "KNeighborsClassifier\n",
      "{'n_neighbors': 8, 'weights': 'uniform'}\n",
      "Time needed for fitting: 0.2792518138885498\n",
      "Valuation score: 0.957  with 8.434041023254395 seconds needed to evaluate.\n",
      "**************************************************************\n",
      "KNeighborsClassifier\n",
      "{'n_neighbors': 8, 'weights': 'distance'}\n",
      "Time needed for fitting: 0.2779579162597656\n",
      "Valuation score: 0.9594  with 8.126899242401123 seconds needed to evaluate.\n",
      "**************************************************************\n"
     ]
    }
   ],
   "source": [
    "clf = KNeighborsClassifier(n_jobs=-1)\n",
    "clf_params = [{'n_neighbors': [2,4,8], 'weights': ['uniform', 'distance']}]\n",
    "\n",
    "for param in list(ParameterGrid(clf_params)): # reminder: classifiers = [knn,sgd,x_trees,svc_rbf,lin_svc]\n",
    "    print(clf.__class__.__name__)\n",
    "    clf.set_params(**param)\n",
    "    print(param)\n",
    "    fit_score_time(clf, X[:10000], y_train[:10000], X_val_res, y_val, prnt=True, oob=False)\n",
    "    print(\"**************************************************************\")"
   ]
  },
  {
   "cell_type": "markdown",
   "metadata": {},
   "source": [
    "*Below is the moment I realized something strange was going on when using the LabelBinarizer on the targets with ExtraTreeClassifer or RandomForestClassifier: The oob_score differs much from the validation score:*"
   ]
  },
  {
   "cell_type": "code",
   "execution_count": 52,
   "metadata": {
    "scrolled": true
   },
   "outputs": [
    {
     "name": "stdout",
     "output_type": "stream",
     "text": [
      "ExtraTreesClassifier\n",
      "{'max_depth': 3, 'min_samples_split': 50}\n",
      "Time needed for fitting: 4.395455360412598\n",
      "Valuation score: 0.0154  with 0.41835522651672363 seconds needed to evaluate.\n",
      "oob score is: 0.9016437500000001\n",
      "**************************************************************\n",
      "ExtraTreesClassifier\n",
      "{'max_depth': 3, 'min_samples_split': 100}\n",
      "Time needed for fitting: 4.210168361663818\n",
      "Valuation score: 0.0154  with 0.4130995273590088 seconds needed to evaluate.\n",
      "oob score is: 0.9016437500000001\n",
      "**************************************************************\n",
      "ExtraTreesClassifier\n",
      "{'max_depth': 3, 'min_samples_split': 500}\n",
      "Time needed for fitting: 4.314900636672974\n",
      "Valuation score: 0.0156  with 0.41079139709472656 seconds needed to evaluate.\n",
      "oob score is: 0.9016125\n",
      "**************************************************************\n",
      "ExtraTreesClassifier\n",
      "{'max_depth': 9, 'min_samples_split': 50}\n",
      "Time needed for fitting: 5.887819766998291\n",
      "Valuation score: 0.5428  with 0.4117250442504883 seconds needed to evaluate.\n",
      "oob score is: 0.954328125\n",
      "**************************************************************\n",
      "ExtraTreesClassifier\n",
      "{'max_depth': 9, 'min_samples_split': 100}\n",
      "Time needed for fitting: 6.10733962059021\n",
      "Valuation score: 0.5144  with 0.4122028350830078 seconds needed to evaluate.\n",
      "oob score is: 0.9515750000000001\n",
      "**************************************************************\n",
      "ExtraTreesClassifier\n",
      "{'max_depth': 9, 'min_samples_split': 500}\n",
      "Time needed for fitting: 5.6206300258636475\n",
      "Valuation score: 0.3548  with 0.4112410545349121 seconds needed to evaluate.\n",
      "oob score is: 0.9356406250000001\n",
      "**************************************************************\n",
      "ExtraTreesClassifier\n",
      "{'max_depth': 14, 'min_samples_split': 50}\n",
      "Time needed for fitting: 6.563241720199585\n",
      "Valuation score: 0.7276  with 0.41185665130615234 seconds needed to evaluate.\n",
      "oob score is: 0.972046875\n",
      "**************************************************************\n",
      "ExtraTreesClassifier\n",
      "{'max_depth': 14, 'min_samples_split': 100}\n",
      "Time needed for fitting: 6.416858673095703\n",
      "Valuation score: 0.6604  with 0.41182923316955566 seconds needed to evaluate.\n",
      "oob score is: 0.965334375\n",
      "**************************************************************\n",
      "ExtraTreesClassifier\n",
      "{'max_depth': 14, 'min_samples_split': 500}\n",
      "Time needed for fitting: 5.683004140853882\n",
      "Valuation score: 0.3898  with 0.411175012588501 seconds needed to evaluate.\n",
      "oob score is: 0.939190625\n",
      "**************************************************************\n"
     ]
    }
   ],
   "source": [
    "clf = ExtraTreesClassifier(random_state=43, n_jobs=-1, oob_score = True, bootstrap=True)\n",
    "clf_params = [{'max_depth': [3,9,14], 'min_samples_split': [50, 100,500]}]\n",
    "\n",
    "for param in list(ParameterGrid(clf_params)): # reminder: classifiers = [knn,sgd,x_trees,svc_rbf,lin_svc]\n",
    "    print(clf.__class__.__name__)\n",
    "    clf.set_params(**param)\n",
    "    print(param)\n",
    "    fit_score_time(clf, X, y_train_label, X_val_res, y_val_label, prnt=True, oob=False)\n",
    "    print(\"oob score is:\", clf.oob_score_)\n",
    "    print(\"**************************************************************\")"
   ]
  },
  {
   "cell_type": "code",
   "execution_count": 53,
   "metadata": {},
   "outputs": [
    {
     "name": "stdout",
     "output_type": "stream",
     "text": [
      "[4 0 8 7 9 0 7 6 3 9 8 7 1 5 8 7 3 9 1 2]\n",
      "[[0 0 0 0 1 0 0 0 0 0]\n",
      " [1 0 0 0 0 0 0 0 0 0]\n",
      " [0 0 0 0 0 0 0 0 1 0]\n",
      " [0 0 0 0 0 0 0 1 0 0]\n",
      " [0 0 0 0 0 0 0 0 0 1]\n",
      " [1 0 0 0 0 0 0 0 0 0]\n",
      " [0 0 0 0 0 0 0 1 0 0]\n",
      " [0 0 0 0 0 0 1 0 0 0]\n",
      " [0 0 0 1 0 0 0 0 0 0]\n",
      " [0 0 0 0 0 0 0 0 0 1]\n",
      " [0 0 0 0 0 0 0 0 1 0]\n",
      " [0 0 0 0 0 0 0 1 0 0]\n",
      " [0 1 0 0 0 0 0 0 0 0]\n",
      " [0 0 0 0 0 1 0 0 0 0]\n",
      " [0 0 0 0 0 0 0 0 1 0]\n",
      " [0 0 0 0 0 0 0 1 0 0]\n",
      " [0 0 0 1 0 0 0 0 0 0]\n",
      " [0 0 0 0 0 0 0 0 0 1]\n",
      " [0 1 0 0 0 0 0 0 0 0]\n",
      " [0 0 1 0 0 0 0 0 0 0]]\n"
     ]
    }
   ],
   "source": [
    "# are the validation labels correct?\n",
    "print(y_val[:20])\n",
    "print(y_val_label[:20])"
   ]
  },
  {
   "cell_type": "markdown",
   "metadata": {},
   "source": [
    "*For some reason, working with the labels results in poor score on the validation set. I haven't rack my brain on this issue yet and welcome any explanation.*\n",
    "\n",
    "*All in all, I ended with the configuration below:*"
   ]
  },
  {
   "cell_type": "code",
   "execution_count": 54,
   "metadata": {},
   "outputs": [],
   "source": [
    "# so lets put them together into a voting team\n",
    "svc_nyst = Pipeline([('std_scaler',StandardScaler()),\n",
    "                ('nystroem',Nystroem(kernel='rbf', gamma=0.0034, random_state=43)),\n",
    "                ('lin_svc',LinearSVC(C=5, dual=False, random_state=43))])\n",
    "svc_rbf = Pipeline([('std_scaler',StandardScaler()),('rbf',SVC(kernel='rbf', C=5, gamma=0.005, random_state=43))])\n",
    "rnd_for = RandomForestClassifier(random_state=43, n_jobs=-1)\n",
    "x_trees = ExtraTreesClassifier(random_state=43, n_jobs=-1)\n",
    "knn = KNeighborsClassifier(n_neighbors=4, weights='distance')\n",
    "sgd = make_pipeline(StandardScaler(),SGDClassifier(alpha= 0.0005, loss='hinge', penalty='l2', n_jobs=-1,\n",
    "                                                        random_state=43))\n",
    "\n",
    "vote_fast = VotingClassifier([('nystroem', svc_nyst), ('sgd',sgd)])\n",
    "vote_slow = VotingClassifier([('rbf', svc_rbf), ('x_trees',x_trees), ('rnd_for',rnd_for), ('knn',knn)])"
   ]
  },
  {
   "cell_type": "markdown",
   "metadata": {},
   "source": [
    "*I trained the fast classifiers on the augmented training set*"
   ]
  },
  {
   "cell_type": "code",
   "execution_count": 55,
   "metadata": {},
   "outputs": [],
   "source": [
    "X_aug, y_aug = augment_training(resize_train(X_train),y_train,\n",
    "                                dx_max=2,dy_max=2, n_shifts=4, im_size=(14,14),random_state=43)"
   ]
  },
  {
   "cell_type": "code",
   "execution_count": 56,
   "metadata": {},
   "outputs": [
    {
     "name": "stdout",
     "output_type": "stream",
     "text": [
      "Time fitting the fast voters: 205.75425362586975\n"
     ]
    }
   ],
   "source": [
    "start = time.time()\n",
    "vote_fast.fit(X_aug,y_aug)\n",
    "end = time.time()\n",
    "print(\"Time fitting the fast voters:\", end-start) # 132 seconds"
   ]
  },
  {
   "cell_type": "markdown",
   "metadata": {},
   "source": [
    "*and the slow classifiers on the resized original training set*"
   ]
  },
  {
   "cell_type": "code",
   "execution_count": 57,
   "metadata": {},
   "outputs": [
    {
     "name": "stdout",
     "output_type": "stream",
     "text": [
      "Time fitting the slow voters: 89.37242031097412\n"
     ]
    }
   ],
   "source": [
    "start = time.time()\n",
    "vote_slow.fit(X_res,y_train)\n",
    "end = time.time()\n",
    "print(\"Time fitting the slow voters:\", end-start) # 150 seconds"
   ]
  },
  {
   "cell_type": "markdown",
   "metadata": {},
   "source": [
    "*Here is the validation and test score for the slow voters*"
   ]
  },
  {
   "cell_type": "code",
   "execution_count": 58,
   "metadata": {},
   "outputs": [],
   "source": [
    "X_test_res = resize_train(X_test)"
   ]
  },
  {
   "cell_type": "code",
   "execution_count": 59,
   "metadata": {},
   "outputs": [
    {
     "name": "stdout",
     "output_type": "stream",
     "text": [
      "Score on the validation set: 0.9758\n",
      "Score on the test set: 0.9774\n"
     ]
    }
   ],
   "source": [
    "print(\"Score on the validation set:\",accuracy_score(y_val, vote_slow.predict(X_val_res)))\n",
    "print(\"Score on the test set:\",accuracy_score(y_test, vote_slow.predict(X_test_res)))"
   ]
  },
  {
   "cell_type": "code",
   "execution_count": 60,
   "metadata": {},
   "outputs": [
    {
     "name": "stdout",
     "output_type": "stream",
     "text": [
      "Score of Pipeline on the validation set: 0.972\n",
      "Score of Pipeline on the test set: 0.9724\n",
      "Score of ExtraTreesClassifier on the validation set: 0.9702\n",
      "Score of ExtraTreesClassifier on the test set: 0.9682\n",
      "Score of RandomForestClassifier on the validation set: 0.963\n",
      "Score of RandomForestClassifier on the test set: 0.9626\n",
      "Score of KNeighborsClassifier on the validation set: 0.9728\n",
      "Score of KNeighborsClassifier on the test set: 0.9748\n"
     ]
    }
   ],
   "source": [
    "for estimator in vote_slow.estimators_: # svc_rbf, extra_trees, random_forest, knn\n",
    "    print(\"Score of\", estimator.__class__.__name__, \"on the validation set:\", estimator.score(X_val_res, y_val))\n",
    "    print(\"Score of\", estimator.__class__.__name__, \"on the test set:\", estimator.score(X_test_res, y_test))"
   ]
  },
  {
   "cell_type": "markdown",
   "metadata": {},
   "source": [
    "*And here for the fast classifiers:*"
   ]
  },
  {
   "cell_type": "code",
   "execution_count": 61,
   "metadata": {},
   "outputs": [
    {
     "name": "stdout",
     "output_type": "stream",
     "text": [
      "Score on the validation set: 0.8614\n",
      "Score on the test set: 0.8524\n"
     ]
    }
   ],
   "source": [
    "print(\"Score on the validation set:\",accuracy_score(y_val, vote_fast.predict(X_val_res)))\n",
    "print(\"Score on the test set:\",accuracy_score(y_test, vote_fast.predict(X_test_res)))"
   ]
  },
  {
   "cell_type": "code",
   "execution_count": 62,
   "metadata": {},
   "outputs": [
    {
     "name": "stdout",
     "output_type": "stream",
     "text": [
      "Score of Pipeline on the validation set: 0.8274\n",
      "Score of Pipeline on the test set: 0.8236\n",
      "Score of Pipeline on the validation set: 0.9136\n",
      "Score of Pipeline on the test set: 0.9022\n"
     ]
    }
   ],
   "source": [
    "for estimator in vote_fast.estimators_: # nymstroem, sgd\n",
    "    print(\"Score of\", estimator.__class__.__name__, \"on the validation set:\", estimator.score(X_val_res, y_val))\n",
    "    print(\"Score of\", estimator.__class__.__name__, \"on the test set:\", estimator.score(X_test_res, y_test))"
   ]
  },
  {
   "cell_type": "markdown",
   "metadata": {},
   "source": [
    "*That's the moment where I had to laugh. Funnily, the quick classifiers got much worse on the augmented dataset and I don't know why. In fact, I did some \"quick\" parameter search, but they tend to stay worse than the training on the original resized training set. Any idea?*\n",
    "\n",
    "*Of course, one could go on analyzing the misclassified pictures or test other configurations, see how the slow classifiers behave on an augmented set and so on. But for me, this should suffice for a while working on mnist. Just predict the test data and hopefully see mnist again with neural networks.*"
   ]
  },
  {
   "cell_type": "code",
   "execution_count": 63,
   "metadata": {},
   "outputs": [],
   "source": [
    "X_eval = df_test.to_numpy()\n",
    "X_eval_res = resize_train(X_eval)"
   ]
  },
  {
   "cell_type": "code",
   "execution_count": 64,
   "metadata": {},
   "outputs": [],
   "source": [
    "# this takes long because knn needs some time to predict 28000 instances\n",
    "#y_eval = vote_slow.predict(X_eval_res) t"
   ]
  },
  {
   "cell_type": "code",
   "execution_count": 65,
   "metadata": {},
   "outputs": [],
   "source": [
    "#df = pd.DataFrame(y_eval, columns=['Label'])\n",
    "#df.index = np.arange(1, len(df)+1)\n",
    "#df.to_csv(../output/submission.csv, index_label='ImageId') # scored 0.97342"
   ]
  }
 ],
 "metadata": {
  "kernelspec": {
   "display_name": "Python 3",
   "language": "python",
   "name": "python3"
  },
  "language_info": {
   "codemirror_mode": {
    "name": "ipython",
    "version": 3
   },
   "file_extension": ".py",
   "mimetype": "text/x-python",
   "name": "python",
   "nbconvert_exporter": "python",
   "pygments_lexer": "ipython3",
   "version": "3.6.7"
  }
 },
 "nbformat": 4,
 "nbformat_minor": 4
}
